{
 "cells": [
  {
   "cell_type": "markdown",
   "metadata": {},
   "source": [
    "# COSC 118: Introductory Scientific Programming"
   ]
  },
  {
   "cell_type": "markdown",
   "metadata": {},
   "source": [
    "Instructor: Dr. Shuangquan (Peter) Wang\n",
    "\n",
    "Email: spwang@salisbury.edu\n",
    "\n",
    "Department of Computer Science, Salisbury University\n"
   ]
  },
  {
   "cell_type": "markdown",
   "metadata": {},
   "source": [
    "# Module 1_Python Basics\n",
    "\n",
    "## 1. Variables and Data Types\n",
    "\n"
   ]
  },
  {
   "cell_type": "markdown",
   "metadata": {},
   "source": [
    "**Contents of this note refer to 1) the teaching materials at Department of Computer Science, William & Mary; 2) the textbook \"Python crash course - a hands-on project-based introduction to programming\"; 3) Python toturial: https://docs.python.org/3/tutorial/**"
   ]
  },
  {
   "cell_type": "markdown",
   "metadata": {},
   "source": [
    "**<font color=red>All rights reserved. Dissemination or sale of any part of this note is NOT permitted.</font>**"
   ]
  },
  {
   "cell_type": "markdown",
   "metadata": {},
   "source": [
    "## Read textbook\n",
    "\n",
    "- Textbook \"Python Crash Course\": Chapter 2 Variables and Simple Data Types\n",
    "\n",
    "- Textbook \"Starting out with Python\": Chapter 2 Input, Processing, and Output\n",
    "\n"
   ]
  },
  {
   "cell_type": "markdown",
   "metadata": {},
   "source": [
    "# "
   ]
  },
  {
   "cell_type": "markdown",
   "metadata": {},
   "source": [
    "**First, Python can do arithmetic computations!**"
   ]
  },
  {
   "cell_type": "markdown",
   "metadata": {},
   "source": [
    "1. Addition (+)"
   ]
  },
  {
   "cell_type": "code",
   "execution_count": null,
   "metadata": {},
   "outputs": [],
   "source": [
    "# Note: Comments in Python start with the hash character (or pound sign), #, \n",
    "# and extend to the end of the physical line.\n",
    "\n",
    "1 + 2"
   ]
  },
  {
   "cell_type": "markdown",
   "metadata": {},
   "source": [
    "**Note:**\n",
    "- To run a code cell, put the cursor in the cell and press **shift+Enter** or the **Play** button in the tool bar\n",
    "- Closing the tab a notebook is running on just takes it out of your view. It doesn't stop the process running the notebook. You should go to **File --> Close and Halt**. Too many open files will cause your notebook server to crash."
   ]
  },
  {
   "cell_type": "markdown",
   "metadata": {},
   "source": [
    "**Practice:**\n",
    "Calculate the sum of integers from 1 to 5"
   ]
  },
  {
   "cell_type": "code",
   "execution_count": null,
   "metadata": {},
   "outputs": [],
   "source": []
  },
  {
   "cell_type": "markdown",
   "metadata": {},
   "source": [
    "Tips: how to run Python command from terminal (command line)?\n",
    "\n",
    "- Open the terminal window (e.g. Run --> cmd for Windows)\n",
    "- Type \"python\" and enter\n",
    "- Input Python command after the primary prompt, >>>, and execute line by line"
   ]
  },
  {
   "cell_type": "markdown",
   "metadata": {},
   "source": [
    "2. Subtraction (-)"
   ]
  },
  {
   "cell_type": "code",
   "execution_count": null,
   "metadata": {},
   "outputs": [],
   "source": [
    "# Example:\n",
    "\n",
    "9 - 7"
   ]
  },
  {
   "cell_type": "markdown",
   "metadata": {},
   "source": [
    "3. Multiplication (*)"
   ]
  },
  {
   "cell_type": "code",
   "execution_count": null,
   "metadata": {},
   "outputs": [],
   "source": [
    "# Example:\n",
    "\n",
    "8 * 9"
   ]
  },
  {
   "cell_type": "markdown",
   "metadata": {},
   "source": [
    "What is the execution order of the following expression?"
   ]
  },
  {
   "cell_type": "code",
   "execution_count": null,
   "metadata": {},
   "outputs": [],
   "source": [
    "10 + 100 * 2"
   ]
  },
  {
   "cell_type": "markdown",
   "metadata": {},
   "source": [
    "**Arithmetic operator precedence:**\n",
    "\n",
    "Google \"Python operator precedence\" or open https://docs.python.org/3.7/reference/expressions.html#operator-precedence"
   ]
  },
  {
   "cell_type": "markdown",
   "metadata": {},
   "source": [
    "How can we sum 10 and 100 together first, then multiply by 2"
   ]
  },
  {
   "cell_type": "code",
   "execution_count": null,
   "metadata": {},
   "outputs": [],
   "source": []
  },
  {
   "cell_type": "markdown",
   "metadata": {},
   "source": [
    "4. Exponentiation (**)"
   ]
  },
  {
   "cell_type": "code",
   "execution_count": null,
   "metadata": {},
   "outputs": [],
   "source": [
    "# Example: calculate 5 squared\n",
    "\n",
    "5 ** 2"
   ]
  },
  {
   "cell_type": "markdown",
   "metadata": {},
   "source": [
    "**Practice:**\n",
    "\n",
    "Calculate 2 to the power of 100"
   ]
  },
  {
   "cell_type": "code",
   "execution_count": null,
   "metadata": {},
   "outputs": [],
   "source": []
  },
  {
   "cell_type": "markdown",
   "metadata": {},
   "source": [
    "**Integer VS Floating point number**\n",
    "\n",
    "The integer numbers (e.g. 2, 4, 20) have type *int*. \n",
    "- Python's integer values have unlimited precision. They can be arbitrarily long.\n",
    "- Practice: Try to calculate 2 to the power of 10,000\n",
    "\n",
    "The ones with a fractional part (e.g. 5.0, 1.6) are floating point numbers. They have type *float*"
   ]
  },
  {
   "cell_type": "markdown",
   "metadata": {},
   "source": [
    "**Practice:**\n",
    "\n",
    "Calculate 2.0 to the power of 100"
   ]
  },
  {
   "cell_type": "code",
   "execution_count": null,
   "metadata": {},
   "outputs": [],
   "source": []
  },
  {
   "cell_type": "markdown",
   "metadata": {},
   "source": [
    "Note:\n",
    "\n",
    "- After adding a decimal point to integer 2, Python treats the number as a floating point number instead of an integer\n",
    "- Very large/small floating point numbers are printed in scientific notation"
   ]
  },
  {
   "cell_type": "code",
   "execution_count": null,
   "metadata": {},
   "outputs": [],
   "source": [
    "# Example:\n",
    "\n",
    "2.0 ** (-100)"
   ]
  },
  {
   "cell_type": "markdown",
   "metadata": {},
   "source": [
    "Question:\n",
    "\n",
    "Are the output of the following expressions integers or floating point numbers?"
   ]
  },
  {
   "cell_type": "code",
   "execution_count": null,
   "metadata": {},
   "outputs": [],
   "source": [
    "1.0 + 1"
   ]
  },
  {
   "cell_type": "code",
   "execution_count": null,
   "metadata": {},
   "outputs": [],
   "source": [
    "2 * 13 + (3 ** 5) - 25 * (1 + 2.0)"
   ]
  },
  {
   "cell_type": "markdown",
   "metadata": {},
   "source": [
    "#  "
   ]
  },
  {
   "cell_type": "markdown",
   "metadata": {},
   "source": [
    "**Note:**\n",
    "\n",
    "When Python performs arithmetic with an integer and a floating point number, it first converts the integer to floating point number."
   ]
  },
  {
   "cell_type": "markdown",
   "metadata": {},
   "source": [
    "How to transform between an integer and a floating point number?\n",
    "\n",
    "A. From *float* to *int*: \n",
    "\n",
    "- use function *int()*\n",
    "- it truncates the fractional part (truncates towards zero)"
   ]
  },
  {
   "cell_type": "code",
   "execution_count": null,
   "metadata": {},
   "outputs": [],
   "source": [
    "# Example: \n",
    "int(2.5)"
   ]
  },
  {
   "cell_type": "code",
   "execution_count": null,
   "metadata": {},
   "outputs": [],
   "source": [
    "int(-2.5)"
   ]
  },
  {
   "cell_type": "markdown",
   "metadata": {},
   "source": [
    "How about the following one?"
   ]
  },
  {
   "cell_type": "code",
   "execution_count": null,
   "metadata": {},
   "outputs": [],
   "source": [
    "int(2.99999999999999999999999999999999999999999999)"
   ]
  },
  {
   "cell_type": "code",
   "execution_count": null,
   "metadata": {},
   "outputs": [],
   "source": [
    "int(2.999999)"
   ]
  },
  {
   "cell_type": "markdown",
   "metadata": {},
   "source": [
    "B. From *int* to *float*: \n",
    "\n",
    "- use function *float()*\n",
    "- add a decimal point and a trailing 0"
   ]
  },
  {
   "cell_type": "code",
   "execution_count": null,
   "metadata": {},
   "outputs": [],
   "source": [
    "float(3)"
   ]
  },
  {
   "cell_type": "markdown",
   "metadata": {},
   "source": [
    "**What are the *int* and *float* functions in Python?**\n",
    "\n",
    "- Google \"python built-in functions\"\n",
    "- Open https://docs.python.org/3/library/functions.html\n",
    "- Try a function, e.g. type()"
   ]
  },
  {
   "cell_type": "code",
   "execution_count": null,
   "metadata": {},
   "outputs": [],
   "source": [
    "type(2.0)"
   ]
  },
  {
   "cell_type": "markdown",
   "metadata": {},
   "source": [
    "5. Divison\n",
    "\n",
    "1) True division: use the slash (/) character. This classic division always returns a float"
   ]
  },
  {
   "cell_type": "code",
   "execution_count": null,
   "metadata": {},
   "outputs": [],
   "source": [
    "# Example: \n",
    "14 / 3"
   ]
  },
  {
   "cell_type": "code",
   "execution_count": null,
   "metadata": {},
   "outputs": [],
   "source": [
    "12 / 2"
   ]
  },
  {
   "cell_type": "markdown",
   "metadata": {},
   "source": [
    "2) Floor division: use two slashes (//) . \n",
    "\n",
    "- It gets an integer result and discards the fractional part\n",
    "- It rounds the quotient **down** to the nearest integer"
   ]
  },
  {
   "cell_type": "code",
   "execution_count": null,
   "metadata": {},
   "outputs": [],
   "source": [
    "14 // 3"
   ]
  },
  {
   "cell_type": "code",
   "execution_count": null,
   "metadata": {},
   "outputs": [],
   "source": [
    "14 // (-3)"
   ]
  },
  {
   "cell_type": "markdown",
   "metadata": {},
   "source": [
    "3) Remainder: use modulo character (%). It returns the remainder of the division"
   ]
  },
  {
   "cell_type": "code",
   "execution_count": null,
   "metadata": {},
   "outputs": [],
   "source": [
    "14 % 3"
   ]
  },
  {
   "cell_type": "code",
   "execution_count": null,
   "metadata": {},
   "outputs": [],
   "source": [
    "14 % -3"
   ]
  },
  {
   "cell_type": "code",
   "execution_count": null,
   "metadata": {},
   "outputs": [],
   "source": [
    "-14 % 3"
   ]
  },
  {
   "cell_type": "code",
   "execution_count": null,
   "metadata": {},
   "outputs": [],
   "source": []
  },
  {
   "cell_type": "markdown",
   "metadata": {},
   "source": [
    "Tips:\n",
    "\n",
    "1. x = (x // y) * y + (x % y)\n",
    "2. Calculate \"x // y\" first, then use above formula to calculate \"x % y\""
   ]
  },
  {
   "cell_type": "markdown",
   "metadata": {},
   "source": [
    "**In-class practice:**"
   ]
  },
  {
   "cell_type": "markdown",
   "metadata": {},
   "source": [
    "We could write an algorithm for computing the area of a circle as:\n",
    "\n",
    "1) Square the radius\n",
    "\n",
    "2) Multiply the result from step 1) by the mathematical quantity **pi**\n",
    "\n",
    "The input is the radius and the output is the area. The numbered steps comprise the algorithm."
   ]
  },
  {
   "cell_type": "code",
   "execution_count": null,
   "metadata": {},
   "outputs": [],
   "source": [
    "# Practice: \n",
    "# Assume pi = 3.14, calculate the area of a circle A with radius 5\n"
   ]
  },
  {
   "cell_type": "code",
   "execution_count": null,
   "metadata": {},
   "outputs": [],
   "source": [
    "# Assume pi = 3.14, calculate the area of a circle B with radius 10\n"
   ]
  },
  {
   "cell_type": "code",
   "execution_count": null,
   "metadata": {},
   "outputs": [],
   "source": [
    "# Calculate the sum of the areas of circle A and circle B\n"
   ]
  },
  {
   "cell_type": "markdown",
   "metadata": {},
   "source": [
    "## Variables\n",
    "\n",
    "The following contents partly refer to:\n",
    "\n",
    "- https://www.guru99.com/variables-in-python.html\n",
    "- https://www.w3schools.com/python/python_variables.asp\n",
    "- https://www.tutorialspoint.com/python/python_variable_types.htm"
   ]
  },
  {
   "cell_type": "markdown",
   "metadata": {},
   "source": [
    "A Python variable is a reserved memory location to store values. This means that when you create a variable you reserve some space in memory.\n",
    "\n",
    "Every value in Python has a datatype. Based on the data type of a variable, the interpreter allocates memory and decides what can be stored in the reserved memory. \n",
    "\n",
    "The data types in Python include integers (int), floating point numbers (float), strings (str), lists (list), dictionaries (dict), tuples (tup), sets (set), booleans (bool), etc."
   ]
  },
  {
   "cell_type": "markdown",
   "metadata": {},
   "source": [
    "**A. Declare a variable:**\n",
    "\n",
    "variable_name = object\n",
    "\n",
    "- The equal sign (=) is called the assignment operator. It is used to assgin an object to the variable on the left side\n",
    "- The object may be a value, variable, math expression, etc."
   ]
  },
  {
   "cell_type": "code",
   "execution_count": null,
   "metadata": {},
   "outputs": [],
   "source": [
    "# Example \n",
    "r = 10\n",
    "print(r)"
   ]
  },
  {
   "cell_type": "code",
   "execution_count": null,
   "metadata": {},
   "outputs": [],
   "source": [
    "pi = 3.14\n",
    "print(pi)"
   ]
  },
  {
   "cell_type": "code",
   "execution_count": null,
   "metadata": {},
   "outputs": [],
   "source": [
    "area = (r ** 2) * pi\n",
    "print(area)"
   ]
  },
  {
   "cell_type": "code",
   "execution_count": null,
   "metadata": {},
   "outputs": [],
   "source": [
    "area_1 = area\n",
    "print(area_1)"
   ]
  },
  {
   "cell_type": "markdown",
   "metadata": {},
   "source": [
    "How to define a (variable) name in Python?\n",
    "\n",
    "- Names in Python can be any sequence of characters drawn from letters, digits, and the underscore ( \\_ ) character.\n",
    "- Names may not start with a digit\n",
    "- You cannot use any of Python's keword which are elements of the Python language that have predefined meanings (Google \"Python keyword\"). Otherwise, it causes syntax error.\n",
    "- Names are case-sensitive\n",
    "- Use descriptive names is important when you are writing programs. This makes your code more accessible to others. (e.g. pi = 3.14 is better than aaa = 3.14)"
   ]
  },
  {
   "cell_type": "markdown",
   "metadata": {},
   "source": [
    "B. Type of a variable\n",
    "\n",
    "- Variables need NOT to be declared with any particular type\n",
    "- The type of a variable can be changed through assigning a new value"
   ]
  },
  {
   "cell_type": "code",
   "execution_count": null,
   "metadata": {
    "scrolled": false
   },
   "outputs": [],
   "source": [
    "# Example:\n",
    "\n",
    "a = 15      # a is of type int\n",
    "print(type(a))\n",
    "a = 15.0    # a is of type float\n",
    "print(type(a))\n",
    "a = \"name\"  # a is now of type str\n",
    "print(type(a))\n"
   ]
  },
  {
   "cell_type": "markdown",
   "metadata": {},
   "source": [
    "**Practice:**\n",
    "\n",
    "Redo the above practice:\n",
    "\n",
    "- Assume pi = 3.14, calculate the area of a circle A with radius 5\n",
    "\n",
    "- Assume pi = 3.14, calculate the area of a circle B with radius 10\n",
    "\n",
    "- Calculate the sum of the areas of circle A and circle B\n",
    "\n",
    "Define a variable for each parameter in this problem, and write code to print the sum of the area."
   ]
  },
  {
   "cell_type": "code",
   "execution_count": null,
   "metadata": {},
   "outputs": [],
   "source": []
  },
  {
   "cell_type": "markdown",
   "metadata": {},
   "source": [
    "Here, pi is a mathematical constant, which can be obtained from **math** module in Python. How?\n",
    "\n",
    "Example:"
   ]
  },
  {
   "cell_type": "code",
   "execution_count": null,
   "metadata": {},
   "outputs": [],
   "source": [
    "# Import the math module into the namespace. \n",
    "# This makes all the functions and constants in the math module available in this program.\n",
    "import math\n",
    "\n",
    "r = 10\n",
    "\n",
    "area = (r**2) * math.pi   # math.pi is the value 3.1415926....\n",
    "\n",
    "print(area)"
   ]
  },
  {
   "cell_type": "markdown",
   "metadata": {},
   "source": [
    "Note:\n",
    "\n",
    "Modules in Python are simply Python code that developers have written and organized, and that you can bring into your Python namespace to use."
   ]
  },
  {
   "cell_type": "markdown",
   "metadata": {},
   "source": [
    "## Algorithm error  VS syntax error"
   ]
  },
  {
   "cell_type": "markdown",
   "metadata": {},
   "source": [
    "1. Syntax errors will generally result in the program crashing because the Python interpreter cannot understand what you mean.\n",
    "\n",
    "2. Algorithm errors are often present in programs that execute successfully. "
   ]
  },
  {
   "cell_type": "markdown",
   "metadata": {},
   "source": [
    "There are two implementations below. One has an algorithm error and the other has a syntax error. Which is which?"
   ]
  },
  {
   "cell_type": "code",
   "execution_count": null,
   "metadata": {},
   "outputs": [],
   "source": [
    "#Program A\n",
    "import math\n",
    "r = 10\n",
    "area = (r**2)+math.pi \n",
    "print(area)"
   ]
  },
  {
   "cell_type": "code",
   "execution_count": null,
   "metadata": {},
   "outputs": [],
   "source": [
    "#Program B\n",
    "import math\n",
    "r = 10\n",
    "area = (r**2)math.pi\n",
    "print(area)"
   ]
  },
  {
   "cell_type": "markdown",
   "metadata": {
    "collapsed": true
   },
   "source": [
    "## Variables and memory"
   ]
  },
  {
   "cell_type": "markdown",
   "metadata": {},
   "source": [
    "Explain why the values of a_var and b_var are different as demonstrated by the print statement:"
   ]
  },
  {
   "cell_type": "code",
   "execution_count": null,
   "metadata": {},
   "outputs": [],
   "source": [
    "a_var = 3\n",
    "b_var = a_var\n",
    "a_var = 4\n",
    "print(a_var, b_var)"
   ]
  },
  {
   "cell_type": "markdown",
   "metadata": {},
   "source": [
    "What are the types of a_var and b_var after this code executes?"
   ]
  },
  {
   "cell_type": "code",
   "execution_count": null,
   "metadata": {},
   "outputs": [],
   "source": [
    "a_var = 3\n",
    "b_var = a_var + 1\n",
    "a_var += 2.25 #Note the syntax here\n",
    "b_var /=2\n",
    "print(a_var, b_var)"
   ]
  },
  {
   "cell_type": "markdown",
   "metadata": {},
   "source": [
    "**More about assignment statement: variable_name = object**\n",
    "\n",
    "- object is calculated first if it is a math expression or other statement\n",
    "- if object is a new one, allocate a cell for it in the main memory (the name points to the value);\n",
    "- if object is another existing variable name, create an alias. The alias will be broken when the value of either variable changes\n",
    "- **name is the only way to access the data**"
   ]
  },
  {
   "cell_type": "markdown",
   "metadata": {},
   "source": [
    "## Augmented assignment statements\n",
    "\n",
    "- https://docs.python.org/3/reference/simple_stmts.html#grammar-token-augmented-assignment-stmt\n",
    "\n",
    "Augmented assignment is the combination, in a single statement, of a binary operation and an assignment statement, such as \"+=\", \"-=\", \"\\*=\", \"/=\", \"//=\", \"%=\", and \"**=\".\n",
    "\n",
    "a += b means a = a + b\n",
    "\n",
    "a -= b means a = a - b\n",
    "\n",
    "......"
   ]
  },
  {
   "cell_type": "markdown",
   "metadata": {},
   "source": [
    "**Practice: compute the value of variable a after each statement**\n",
    "\n",
    "a = 6\n",
    "\n",
    "a += 2\n",
    "\n",
    "a -= 4\n",
    "\n",
    "a *= 4\n",
    "\n",
    "a %= 6\n",
    "\n",
    "a ** = 3\n",
    "\n",
    "a //= 8\n",
    "\n",
    "a /= 4"
   ]
  },
  {
   "cell_type": "markdown",
   "metadata": {},
   "source": [
    "Which objects are lost in space after this program runs?"
   ]
  },
  {
   "cell_type": "code",
   "execution_count": null,
   "metadata": {},
   "outputs": [],
   "source": [
    "a = 7\n",
    "b = 'turtle'\n",
    "c = a-2\n",
    "print(a,b,c)\n",
    "\n",
    "a = c**2 #Exponentiation\n",
    "d = a\n",
    "c = d\n",
    "print(a,b,c,d)"
   ]
  },
  {
   "cell_type": "markdown",
   "metadata": {},
   "source": [
    "What is the problem with the code below?"
   ]
  },
  {
   "cell_type": "code",
   "execution_count": null,
   "metadata": {},
   "outputs": [],
   "source": [
    "i = j+3\n",
    "print(i)"
   ]
  },
  {
   "cell_type": "markdown",
   "metadata": {},
   "source": [
    "## Casting\n",
    "\n",
    "We've seen that casting a `float` to an `int` truncates the value, and casting an `int` to a `float` adds a decimal point and a trailing 0. \n",
    "\n",
    "You can cast `string` representations of numbers to `floats` and `ints` as well. "
   ]
  },
  {
   "cell_type": "code",
   "execution_count": null,
   "metadata": {},
   "outputs": [],
   "source": [
    "# Example:\n",
    "a = '150'\n",
    "b = int(a)\n",
    "print(b)"
   ]
  },
  {
   "cell_type": "code",
   "execution_count": null,
   "metadata": {},
   "outputs": [],
   "source": [
    "# Example:\n",
    "a = \"3.14\"\n",
    "b = float(a)\n",
    "print(b)"
   ]
  },
  {
   "cell_type": "code",
   "execution_count": null,
   "metadata": {},
   "outputs": [],
   "source": [
    "# What is the output?\n",
    "a = '150'\n",
    "b = float(a)\n",
    "print(b)"
   ]
  },
  {
   "cell_type": "code",
   "execution_count": null,
   "metadata": {
    "scrolled": true
   },
   "outputs": [],
   "source": [
    "# What is the output?\n",
    "a = \"3.14\"\n",
    "b = int(a)\n",
    "print(b)"
   ]
  },
  {
   "cell_type": "markdown",
   "metadata": {},
   "source": [
    "### input function\n",
    "\n",
    "Open https://docs.python.org/3/library/functions.html#input"
   ]
  },
  {
   "cell_type": "code",
   "execution_count": null,
   "metadata": {},
   "outputs": [],
   "source": [
    "# How do we fix this?\n",
    "length = input('Enter length of square side: ')\n",
    "area = length**2"
   ]
  },
  {
   "cell_type": "code",
   "execution_count": null,
   "metadata": {
    "scrolled": true
   },
   "outputs": [],
   "source": [
    "# What's the difference?\n",
    "c = 5\n",
    "d = 6\n",
    "print(c*d)\n",
    "\n",
    "a = '5'\n",
    "b = '6'\n",
    "print(a*b)"
   ]
  },
  {
   "cell_type": "code",
   "execution_count": null,
   "metadata": {},
   "outputs": [],
   "source": [
    "a = 5\n",
    "b = '6'\n",
    "print(a*b)"
   ]
  },
  {
   "cell_type": "code",
   "execution_count": null,
   "metadata": {},
   "outputs": [],
   "source": [
    "a = '5'\n",
    "b = 6\n",
    "print(a*b)"
   ]
  },
  {
   "cell_type": "markdown",
   "metadata": {},
   "source": [
    "**Practice:**\n",
    "\n",
    "What values will be printed from the following lines of code?\n",
    "\n",
    "(assume each value is printed on a separate line even though they are listed as comma-separated)\n",
    "\n",
    "**print(int(9.56))**\n",
    "\n",
    "**print(float(4))**\n",
    "\n",
    "**print(int('8.72'))** \n",
    "\n",
    "- Answer A: (9,4.0,8)\n",
    "\n",
    "- Answer B: (9.0,4,8.72)\n",
    "\n",
    "- Answer C: (9,4.0,8.72)\n",
    "\n",
    "- Answer D: None of these\n"
   ]
  },
  {
   "cell_type": "code",
   "execution_count": null,
   "metadata": {},
   "outputs": [],
   "source": [
    "print(int(9.56))\n",
    "print(float(4))\n",
    "print(int('8.72')) "
   ]
  },
  {
   "cell_type": "markdown",
   "metadata": {},
   "source": [
    "## Floating point imprecision\n",
    "\n",
    "You will complete a final exam for this course. Suppose that the exam is worth 10 points and you score 9.2. To express your score as a proportion, we would divide 9.2 by 10 to get 0.92. Let's do this with Python:"
   ]
  },
  {
   "cell_type": "code",
   "execution_count": null,
   "metadata": {},
   "outputs": [],
   "source": [
    "final = 9.2\n",
    "final_pct = 9.2/10\n",
    "print(final_pct)"
   ]
  },
  {
   "cell_type": "markdown",
   "metadata": {},
   "source": [
    "What happened? Some of the details are explained here: https://docs.python.org/3.6/tutorial/floatingpoint.html. The short version is that floating point numbers are represented in memory in binary, and their values are approximations because only so many decimal places can be recorded.\n",
    "\n",
    "What does this mean for you in practice? Just be aware that floating point numbers may be inexact. Typically this won't affect your calculations unless you are looking for high precision (many decimal places)."
   ]
  },
  {
   "cell_type": "markdown",
   "metadata": {},
   "source": [
    "## String concatenation"
   ]
  },
  {
   "cell_type": "code",
   "execution_count": null,
   "metadata": {},
   "outputs": [],
   "source": [
    "a = 'string' + ' ' + 'concatenation'\n",
    "print(a)"
   ]
  },
  {
   "cell_type": "markdown",
   "metadata": {},
   "source": [
    "## Print string and numbers together"
   ]
  },
  {
   "cell_type": "code",
   "execution_count": null,
   "metadata": {},
   "outputs": [],
   "source": [
    "# First method:\n",
    "a = 5\n",
    "print('This word has ' + str(a) + ' letters')"
   ]
  },
  {
   "cell_type": "code",
   "execution_count": null,
   "metadata": {},
   "outputs": [],
   "source": [
    "# Second method:\n",
    "a = 5\n",
    "print('This word has',a,'letters')"
   ]
  },
  {
   "cell_type": "markdown",
   "metadata": {},
   "source": [
    "## Python built-in functions"
   ]
  },
  {
   "cell_type": "markdown",
   "metadata": {},
   "source": [
    "**Practice 1**\n",
    "\n",
    "round(number[, ndigits])\n",
    "\n",
    "Return number rounded to ndigits precision after the decimal point. If ndigits is omitted or is None, it returns the nearest integer to its input.\n",
    "\n",
    "1) Use this function to calculate the rounded number of 3.677 without giving \"ndigits\" argument;\n",
    "\n",
    "2) Use this function to calculate the rounded number of 3.677 with \"2\" digits after the decimal point;"
   ]
  },
  {
   "cell_type": "code",
   "execution_count": null,
   "metadata": {},
   "outputs": [],
   "source": []
  },
  {
   "cell_type": "markdown",
   "metadata": {},
   "source": [
    "**Practice 2**\n",
    "\n",
    "print(*objects, sep=' ', end='\\n', file=sys.stdout, flush=False)\n",
    "\n",
    "Print *objects* to the text stream file, separated by *sep* and followed by *end*.\n",
    "\n",
    "All *objects* are converted to strings like str() does and written to the stream. \n",
    "\n",
    "Both *sep* and *end* must be strings; they can also be **None**, which means to use the default values.\n"
   ]
  },
  {
   "cell_type": "code",
   "execution_count": null,
   "metadata": {},
   "outputs": [],
   "source": [
    "a = 'I have'\n",
    "b = 2\n",
    "c = 'cars'\n",
    "# print these three objects in one line, separated by a space and ended by '.'\n"
   ]
  },
  {
   "cell_type": "code",
   "execution_count": null,
   "metadata": {},
   "outputs": [],
   "source": [
    "a = 'bmw'\n",
    "b = 'audi'\n",
    "c = 'toyota'\n",
    "# print these three objects in one line, separated by ',' and ended by ':'\n"
   ]
  },
  {
   "cell_type": "markdown",
   "metadata": {},
   "source": [
    "## Python imported functions"
   ]
  },
  {
   "cell_type": "markdown",
   "metadata": {},
   "source": [
    "**Google \"python module index\" to see the available modules in Python**"
   ]
  },
  {
   "cell_type": "markdown",
   "metadata": {},
   "source": [
    "**Practice 3**\n",
    "\n",
    "Have a look on the 'factorial' function in the 'math' module\n",
    "\n",
    "**math.factorial(x)**\n",
    "\n",
    "Return x factorial as an integer. Raises ValueError if x is not integral or is negative.\n",
    "\n",
    "Import the whole 'math' model, and calculate factorial of 5:"
   ]
  },
  {
   "cell_type": "code",
   "execution_count": null,
   "metadata": {},
   "outputs": [],
   "source": []
  },
  {
   "cell_type": "markdown",
   "metadata": {},
   "source": [
    "**Practice 4**\n",
    "\n",
    "Have a look on the 'randint' function in the 'random' module\n",
    "\n",
    "**random.randint(a, b)**\n",
    "\n",
    "Return a random integer N such that a <= N <= b.\n",
    "\n",
    "Import the single 'randint' function from 'random' model, and write program to output a random integer between 2 and 6"
   ]
  },
  {
   "cell_type": "code",
   "execution_count": null,
   "metadata": {},
   "outputs": [],
   "source": []
  }
 ],
 "metadata": {
  "kernelspec": {
   "display_name": "Python 3 (ipykernel)",
   "language": "python",
   "name": "python3"
  },
  "language_info": {
   "codemirror_mode": {
    "name": "ipython",
    "version": 3
   },
   "file_extension": ".py",
   "mimetype": "text/x-python",
   "name": "python",
   "nbconvert_exporter": "python",
   "pygments_lexer": "ipython3",
   "version": "3.9.13"
  }
 },
 "nbformat": 4,
 "nbformat_minor": 2
}
