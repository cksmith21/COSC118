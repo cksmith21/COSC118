{
 "cells": [
  {
   "cell_type": "markdown",
   "metadata": {},
   "source": [
    "# COSC 118: Introductory Scientific Programming"
   ]
  },
  {
   "cell_type": "markdown",
   "metadata": {},
   "source": [
    "Instructor: Dr. Shuangquan (Peter) Wang\n",
    "\n",
    "Email: spwang@salisbury.edu\n",
    "\n",
    "Department of Computer Science, Salisbury University\n"
   ]
  },
  {
   "cell_type": "markdown",
   "metadata": {},
   "source": [
    "# Module 1_Python Basics\n",
    "\n",
    "## 2. Boolean variables and boolean logic\n",
    "\n"
   ]
  },
  {
   "cell_type": "markdown",
   "metadata": {},
   "source": [
    "**Contents of this note refer to 1) the teaching materials at Department of Computer Science, William & Mary; 2) the textbook \"Python crash course - a hands-on project-based introduction to programming\"; 3) Python toturial: https://docs.python.org/3/tutorial/**"
   ]
  },
  {
   "cell_type": "markdown",
   "metadata": {},
   "source": [
    "**<font color=red>All rights reserved. Dissemination or sale of any part of this note is NOT permitted.</font>**"
   ]
  },
  {
   "cell_type": "markdown",
   "metadata": {},
   "source": [
    "## Read textbook\n",
    "\n",
    "- Textbook \"Python Crash Course\": Chapter 5 If Statement\n",
    "\n",
    "- Textbook \"Starting out with Python\": Chapter 3 Decision Structures and Boolean Logic\n",
    "\n"
   ]
  },
  {
   "cell_type": "markdown",
   "metadata": {},
   "source": [
    "#  "
   ]
  },
  {
   "cell_type": "markdown",
   "metadata": {},
   "source": [
    "### Boolean Data Type\n",
    "\n",
    "-- https://problemsolvingwithpython.com/04-Data-Types-and-Variables/04.02-Boolean-Data-Type/\n",
    "\n",
    "The boolean data type is either **True** or **False**. \n",
    "\n",
    "**True** and **False** are keywords in Python.\n"
   ]
  },
  {
   "cell_type": "markdown",
   "metadata": {},
   "source": [
    "What's the difference between these variables?"
   ]
  },
  {
   "cell_type": "code",
   "execution_count": null,
   "metadata": {},
   "outputs": [],
   "source": [
    "a = 'True'\n",
    "print(type(a))\n",
    "b = True\n",
    "print(type(b))"
   ]
  },
  {
   "cell_type": "code",
   "execution_count": null,
   "metadata": {
    "scrolled": true
   },
   "outputs": [],
   "source": [
    "a = False\n",
    "print(type(a))\n",
    "b = false\n",
    "print(type(b))"
   ]
  },
  {
   "cell_type": "markdown",
   "metadata": {},
   "source": [
    "## Conditional Test\n",
    "\n",
    "Conditional test is an expression that can be evaluated as **True** or **False**.\n",
    "\n",
    "**Examples of conditional tests:**"
   ]
  },
  {
   "cell_type": "code",
   "execution_count": null,
   "metadata": {},
   "outputs": [],
   "source": [
    "# 1. Comparison (<, <=, >, >=, ==, !=)\n",
    "a = 9\n",
    "print(a > 5)\n",
    "print(a == 9)\n",
    "print(a != 7)\n",
    "print(a <= 10)"
   ]
  },
  {
   "cell_type": "code",
   "execution_count": null,
   "metadata": {},
   "outputs": [],
   "source": [
    "# 2. Chain comparison\n",
    "print(1 < 4 <= 9)\n",
    "print(1 > 9 > 7)"
   ]
  },
  {
   "cell_type": "code",
   "execution_count": null,
   "metadata": {},
   "outputs": [],
   "source": [
    "# 3. Membership operation (in, not in)\n",
    "print(3 in [1,2,3])\n",
    "print(5 not in [1,4,7])"
   ]
  },
  {
   "cell_type": "code",
   "execution_count": null,
   "metadata": {},
   "outputs": [],
   "source": [
    "# 4. Identity operation (is, \"a is b\" means a and b point to the same object)\n",
    "car = 'BMW'\n",
    "CAR = car\n",
    "print(car is CAR)"
   ]
  },
  {
   "cell_type": "code",
   "execution_count": null,
   "metadata": {},
   "outputs": [],
   "source": [
    "# 5. Combine above conditional tests using boolean operators\n",
    "# What are boolean operators?"
   ]
  },
  {
   "cell_type": "markdown",
   "metadata": {},
   "source": [
    "### Boolean operators\n",
    "\n",
    "-- https://problemsolvingwithpython.com/04-Data-Types-and-Variables/04.02-Boolean-Data-Type/\n",
    "\n",
    "A boolean or logical value can either be **True** or **False**. \n",
    "\n",
    "Boolean values can be manipulated and combined with boolean operators. Boolean operators in Python include:\n",
    "\n",
    "- *and*\n",
    "- *or*\n",
    "- *not*."
   ]
  },
  {
   "cell_type": "markdown",
   "metadata": {},
   "source": [
    "1. The boolean operator *and* requires both propositions to be True in order for the statement to evaluate to True. Here's an example:"
   ]
  },
  {
   "cell_type": "code",
   "execution_count": null,
   "metadata": {},
   "outputs": [],
   "source": [
    "print(7>3 and 7==7)\n",
    "print(3<7 and 7!=7)\n",
    "print(3<7 and 7==7)"
   ]
  },
  {
   "cell_type": "markdown",
   "metadata": {},
   "source": [
    "2. The boolean operator *or* requires at least one of the propositions to be True in order for the statement to evaluate to True."
   ]
  },
  {
   "cell_type": "code",
   "execution_count": null,
   "metadata": {},
   "outputs": [],
   "source": [
    "print(7>3 or 7==7)\n",
    "print(3<7 or 7!=7)\n",
    "print(7>3 or 7!=7)"
   ]
  },
  {
   "cell_type": "markdown",
   "metadata": {},
   "source": [
    "3. The boolean operator *not* needs only one operand. It returns True if its operand is a False expression and returns False if it is True. https://www.tutorialspoint.com/What-are-boolean-operators-in-Python"
   ]
  },
  {
   "cell_type": "code",
   "execution_count": null,
   "metadata": {},
   "outputs": [],
   "source": [
    "a = 5\n",
    "print(a > 10)\n",
    "print(not (a > 10))"
   ]
  },
  {
   "cell_type": "markdown",
   "metadata": {},
   "source": [
    "**Practice:**"
   ]
  },
  {
   "cell_type": "code",
   "execution_count": null,
   "metadata": {},
   "outputs": [],
   "source": [
    "a = 9\n",
    "print(not (a > 5))\n",
    "print(a > 5 and a == 9)\n",
    "print(a > 5 or a != 7)"
   ]
  },
  {
   "cell_type": "markdown",
   "metadata": {},
   "source": [
    "### Order of boolean operations\n",
    "\n",
    "*not* > *and* > *or*"
   ]
  },
  {
   "cell_type": "markdown",
   "metadata": {},
   "source": [
    "What the result of these statements? Why?"
   ]
  },
  {
   "cell_type": "code",
   "execution_count": null,
   "metadata": {},
   "outputs": [],
   "source": [
    "print(not True and False or True)\n",
    "print(not False and False or False)\n",
    "print(True and False or not False)"
   ]
  },
  {
   "cell_type": "markdown",
   "metadata": {},
   "source": [
    "## Logic Puzzle\n",
    "\n",
    "Complete the logic puzzle and fill in the correct values for each of the variables below based on your results. "
   ]
  },
  {
   "cell_type": "code",
   "execution_count": null,
   "metadata": {},
   "outputs": [],
   "source": [
    "length_A = \n",
    "length_B = \n",
    "length_E = \n",
    "length_G = \n",
    "height_A = \n",
    "height_B = \n",
    "height_E = \n",
    "height_G = "
   ]
  },
  {
   "cell_type": "markdown",
   "metadata": {},
   "source": [
    "Translate the logical statements on the worksheet into Python code below to check your answers. The first one has been done for you. "
   ]
  },
  {
   "cell_type": "code",
   "execution_count": null,
   "metadata": {},
   "outputs": [],
   "source": [
    "print(length_A == 700)\n"
   ]
  },
  {
   "cell_type": "markdown",
   "metadata": {},
   "source": [
    "## Unusual score"
   ]
  },
  {
   "cell_type": "markdown",
   "metadata": {},
   "source": [
    "A Z-score tells us how many standard deviations away an observation is from the mean. Observations (for a normal distribution) that are more than 3 standard deviations from the mean are considered unusual. The standard deviation tells us, on average, how far we expect a student's score to be from the average score.\n",
    "\n",
    "For example, if the average score on a test is an 80, with a standard deviation of 5, scores above 95 and scores below 65 would be considered unusual. A score of 95 has a Z-score of 3 (it is 3 standard deviations above the mean), and a score of 65 has a Z-score of -3 (it is 3 standard deviations below the mean). \n",
    "\n",
    "Write a program that takes as inputs a mean score, a standard deviation, and an individual's observed score. It should calculate the Z-score and then print out `True` if the score is unusual, and `False` if it is not."
   ]
  },
  {
   "cell_type": "code",
   "execution_count": null,
   "metadata": {},
   "outputs": [],
   "source": []
  },
  {
   "cell_type": "markdown",
   "metadata": {},
   "source": [
    "## print() function\n",
    "\n",
    "Google \"python built-in functions\", and find \"print()\" function\n",
    "\n",
    "**print(*objects, sep=' ', end='\\n', file=sys.stdout, flush=False)**\n",
    "\n",
    "Print *objects* to the text stream file, separated by *sep* and followed by *end*. All object arguments (before *sep*) are converted to strings like str() does and written to the stream\n",
    "\n",
    "1. Can have multiple object arguments, each is an object (string, int, float, list, ...).\n",
    "\n",
    "2. Both *sep* and *end* must be strings; they can also be None (do not specify), which means to use the default values. The default value of *sep* is a white space; the default value of *end* is '\\n', which means change to a new line.\n",
    "\n",
    "3. The file argument *sys.stdout* means print to screen.\n",
    "\n",
    "4. If the *flush* argument is **True**, the stream is forcibly flushed."
   ]
  },
  {
   "cell_type": "markdown",
   "metadata": {},
   "source": [
    "**Practice:**\n",
    "\n",
    "a = 120\n",
    "\n",
    "Print sentence \"Salisbury is 120 miles away from DC\". The number 120 is printed from variable **a**. The sentence is ended with '.'; the cursor stops at the same line of this sentence."
   ]
  },
  {
   "cell_type": "code",
   "execution_count": null,
   "metadata": {},
   "outputs": [],
   "source": []
  },
  {
   "cell_type": "markdown",
   "metadata": {},
   "source": [
    "**Practice:**\n",
    "\n",
    "a = 1\n",
    "\n",
    "b = 2\n",
    "\n",
    "c = 3\n",
    "\n",
    "d = 4\n",
    "\n",
    "1) Print variables a, b, c, and d in a string as \"1,2,3,4\". The cursor stops at the end of this string.\n",
    "\n",
    "2) Print variables a, b, c, and d in a string as \"1, 2, 3, 4\". The cursor stops at the beginning of next new line."
   ]
  },
  {
   "cell_type": "code",
   "execution_count": null,
   "metadata": {},
   "outputs": [],
   "source": []
  },
  {
   "cell_type": "code",
   "execution_count": null,
   "metadata": {},
   "outputs": [],
   "source": [
    "a = 'I have'\n",
    "b = 2\n",
    "c = 'cars'\n",
    "# print these three objects in one line, separated by a space and ended by '.'\n"
   ]
  },
  {
   "cell_type": "code",
   "execution_count": null,
   "metadata": {},
   "outputs": [],
   "source": [
    "a = 'bmw'\n",
    "b = 'audi'\n",
    "c = 'toyota'\n",
    "# print these three objects in one line, separated by ',' and ended by ':'\n"
   ]
  },
  {
   "cell_type": "code",
   "execution_count": null,
   "metadata": {},
   "outputs": [],
   "source": []
  }
 ],
 "metadata": {
  "kernelspec": {
   "display_name": "Python 3 (ipykernel)",
   "language": "python",
   "name": "python3"
  },
  "language_info": {
   "codemirror_mode": {
    "name": "ipython",
    "version": 3
   },
   "file_extension": ".py",
   "mimetype": "text/x-python",
   "name": "python",
   "nbconvert_exporter": "python",
   "pygments_lexer": "ipython3",
   "version": "3.9.13"
  }
 },
 "nbformat": 4,
 "nbformat_minor": 2
}
