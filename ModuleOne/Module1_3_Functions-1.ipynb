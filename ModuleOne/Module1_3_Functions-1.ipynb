{
 "cells": [
  {
   "cell_type": "markdown",
   "metadata": {},
   "source": [
    "# COSC 118: Introductory Scientific Programming"
   ]
  },
  {
   "cell_type": "markdown",
   "metadata": {},
   "source": [
    "Instructor: Dr. Shuangquan (Peter) Wang\n",
    "\n",
    "Email: spwang@salisbury.edu\n",
    "\n",
    "Department of Computer Science, Salisbury University\n"
   ]
  },
  {
   "cell_type": "markdown",
   "metadata": {},
   "source": [
    "# Module 1_Python Basics\n",
    "\n",
    "## 3. Functions\n",
    "\n"
   ]
  },
  {
   "cell_type": "markdown",
   "metadata": {},
   "source": [
    "**Contents of this note refer to 1) the teaching materials at Department of Computer Science, William & Mary; 2) the textbook \"Python crash course - a hands-on project-based introduction to programming\"; 3) Python toturial: https://docs.python.org/3/tutorial/**"
   ]
  },
  {
   "cell_type": "markdown",
   "metadata": {},
   "source": [
    "**<font color=red>All rights reserved. Dissemination or sale of any part of this note is NOT permitted.</font>**"
   ]
  },
  {
   "cell_type": "markdown",
   "metadata": {},
   "source": [
    "## Read textbook\n",
    "\n",
    "- Textbook \"Python Crash Course\": Chapter 8 Functions\n",
    "\n",
    "- Textbook \"Starting out with Python\": Chapter 5 Functions\n",
    "\n"
   ]
  },
  {
   "cell_type": "markdown",
   "metadata": {},
   "source": [
    "# "
   ]
  },
  {
   "cell_type": "markdown",
   "metadata": {},
   "source": [
    "# Python functions\n",
    "\n",
    "## 1. Python built-in functions\n",
    "\n",
    "Built-in functions: \n",
    "- Someone else wrote; \n",
    "- ready for you to use; \n",
    "- already included in the namespace (no need to import)\n",
    "\n",
    "How to call a built-in function:\n",
    "\n",
    "**function_name(arguments)**\n",
    "\n",
    "- The parenthesis are needed even there is no argument\n",
    "\n",
    "- The neighboring arguments are seperated by a comma\n",
    "\n",
    "- The inputs should exactly match the defined arguments (include the types and the number of arguments)\n",
    "\n",
    "- The outputs are the return values of the function\n",
    "\n",
    "##  "
   ]
  },
  {
   "cell_type": "markdown",
   "metadata": {},
   "source": [
    "**Practice:**\n",
    "\n",
    "min(arg1, arg2, *args)\n",
    "\n",
    "Return the smallest of two or more arguments.\n",
    "\n",
    "**Try:**\n",
    "\n",
    "Use this function to calculate the smallest of following number: 25, 13, 55, 19"
   ]
  },
  {
   "cell_type": "code",
   "execution_count": null,
   "metadata": {},
   "outputs": [],
   "source": []
  },
  {
   "cell_type": "markdown",
   "metadata": {},
   "source": [
    "**Practice:**\n",
    "\n",
    "round(number[, ndigits])\n",
    "\n",
    "Return number rounded to *ndigits* precision after the decimal point. If *ndigits* is omitted or is None, it returns the nearest integer to its input.\n",
    "\n",
    "**Try:**\n",
    "\n",
    "1) Use this function to calculate the rounded number of 3.14159 without giving *ndigits* argument;\n",
    "\n",
    "2) Use this function to calculate the rounded number of 3.14159 with 4 digits after the decimal point;"
   ]
  },
  {
   "cell_type": "code",
   "execution_count": null,
   "metadata": {},
   "outputs": [],
   "source": []
  },
  {
   "cell_type": "markdown",
   "metadata": {},
   "source": [
    "For other Python built-in functions, please Google \"Python 3 built-in functions\" or open https://docs.python.org/3/library/functions.html"
   ]
  },
  {
   "cell_type": "markdown",
   "metadata": {},
   "source": [
    "## 2. Python imported functions\n",
    "\n",
    "There are numerous functions that are already written and ready for you to use. These functions are available in modules.\n",
    "\n",
    "These modules are Python code that developers have written and organized, and that you can bring it into your Python namespace to use."
   ]
  },
  {
   "cell_type": "markdown",
   "metadata": {},
   "source": [
    "### **Method 1:**\n",
    "\n",
    "Import the whole module: **import module_name**\n",
    "\n",
    "This makes all the functions in this module available.\n",
    "\n",
    "Call a function in this module: **module_name.function_name(function_arguments)**"
   ]
  },
  {
   "cell_type": "markdown",
   "metadata": {},
   "source": [
    "**Example:**\n"
   ]
  },
  {
   "cell_type": "code",
   "execution_count": null,
   "metadata": {},
   "outputs": [],
   "source": [
    "import math\n",
    "a = math.sqrt(100)\n",
    "print(a)"
   ]
  },
  {
   "cell_type": "markdown",
   "metadata": {},
   "source": [
    "**Practice:**\n",
    "\n",
    "The 'factorial' function in the 'math' module\n",
    "\n",
    "**factorial(x)**\n",
    "\n",
    "Return x factorial as an integer. Raises ValueError if x is not an integer or is negative.\n",
    "\n",
    "**Try:** Import the whole 'math' module; use the 'factorial' function to calculate factorial of 5:"
   ]
  },
  {
   "cell_type": "code",
   "execution_count": null,
   "metadata": {},
   "outputs": [],
   "source": []
  },
  {
   "cell_type": "markdown",
   "metadata": {},
   "source": [
    "### **Method 2:**\n",
    "\n",
    "Import specified functions from a module: **from  module_name  import  function_name[,*function_name]**\n",
    "\n",
    "Instead of importing the whole module, this 2nd method only import the specified functions\n",
    "\n",
    "Call an imported function: **function_name(function_arguments)**"
   ]
  },
  {
   "cell_type": "markdown",
   "metadata": {},
   "source": [
    "**Example:**"
   ]
  },
  {
   "cell_type": "code",
   "execution_count": null,
   "metadata": {},
   "outputs": [],
   "source": [
    "from math import sqrt\n",
    "a = sqrt(100)\n",
    "print(a)"
   ]
  },
  {
   "cell_type": "markdown",
   "metadata": {},
   "source": [
    "**Practice:**\n",
    "\n",
    "The 'randint' function in the 'random' module\n",
    "\n",
    "**randint(a, b)**\n",
    "\n",
    "Return a random integer N such that a <= N <= b.\n",
    "\n",
    "**Try:** Import the single 'randint' function from 'random' module, and use it to output a random integer N, where 1 <= N <= 100"
   ]
  },
  {
   "cell_type": "code",
   "execution_count": null,
   "metadata": {},
   "outputs": [],
   "source": []
  },
  {
   "cell_type": "markdown",
   "metadata": {},
   "source": [
    "## 3. A function of our own\n",
    "\n",
    "Define our own functions in Python:"
   ]
  },
  {
   "cell_type": "code",
   "execution_count": null,
   "metadata": {},
   "outputs": [],
   "source": [
    "# syntax of defining our own functions\n",
    "def function_name(arguments):\n",
    "    body of the function\n",
    "    return return_value"
   ]
  },
  {
   "cell_type": "markdown",
   "metadata": {},
   "source": [
    "**Pay attention:**\n",
    "\n",
    "1) each argument is a variable that you can use in this function; its value equals to the corresponding input when you call this function\n",
    "\n",
    "2) DO NOT forget the **colon** at the end of the first line\n",
    "\n",
    "3) return line is optional (no need if there is no return value)\n",
    "\n",
    "4) USE **indentation** to indicate the function body (all the indented lines after the **def** line are in this function)\n",
    "\n",
    "5) define a function BEFORE using it\n",
    "\n",
    "6) We call (or invoke) our function in the same way as we did for bulit-in functions, i.e. **function_name(arguments)**\n",
    "\n",
    "7) The lifetime of a function starts from calling it, and ends with return (or finishing the execution of all function body)"
   ]
  },
  {
   "cell_type": "markdown",
   "metadata": {},
   "source": [
    "**Example**\n",
    "\n",
    "Write a function that takes one temperature in Celsius as the input, and converts it to Fahrenheit, and returns the temperature in Fahrenheit. \n",
    "\n",
    "Formula: C * (9/5) + 32"
   ]
  },
  {
   "cell_type": "code",
   "execution_count": null,
   "metadata": {},
   "outputs": [],
   "source": []
  },
  {
   "cell_type": "markdown",
   "metadata": {},
   "source": [
    "## Execution process of a function\n",
    "\n",
    "Let's show it on a slide"
   ]
  },
  {
   "cell_type": "markdown",
   "metadata": {},
   "source": [
    "**Question:**\n",
    "\n",
    "How about if we delete the **return** line in the function?"
   ]
  },
  {
   "cell_type": "code",
   "execution_count": null,
   "metadata": {},
   "outputs": [],
   "source": []
  },
  {
   "cell_type": "markdown",
   "metadata": {},
   "source": [
    "#  "
   ]
  },
  {
   "cell_type": "markdown",
   "metadata": {},
   "source": [
    "<div class=\"voila\">\n",
    "<p>\n",
    "return None (i.e. b = None)\n",
    "</p>\n",
    "<p>\n",
    "None is a special constant in Python, which represents the absence of a value or a null value. It is an object of its own data type, the None Type. \n",
    "</p>\n",
    "<p>\n",
    "None does not imply False, 0, or any empty list, etc.\n",
    "</p>\n",
    "</div>"
   ]
  },
  {
   "cell_type": "markdown",
   "metadata": {},
   "source": [
    "**Question:**\n",
    "\n",
    "How about if we replace the **return** with **print** method? "
   ]
  },
  {
   "cell_type": "markdown",
   "metadata": {},
   "source": [
    "#  "
   ]
  },
  {
   "cell_type": "markdown",
   "metadata": {},
   "source": [
    "<div class=\"voila\">\n",
    "<p>\n",
    "The print method prints the return value on the screen. However, this value is no longer accessible\n",
    "</p>\n",
    "</div>"
   ]
  },
  {
   "cell_type": "markdown",
   "metadata": {},
   "source": [
    "### Advantages of using functions\n",
    "\n",
    "**1. Code resue**\n",
    "\n",
    ". Golden rule of function: if you need to write one sentence more than once, write it as a function\n",
    "\n",
    "**2. DRY vs WET:** DRY: Don't Repeat Yourself. WET: Write Everything Twice, or We Enjoy Typing. DRY is better than WET \n",
    "\n",
    "**3. Decompose complex problem into simpler ones**\n",
    "\n",
    "**4. Reliability:** avoid to copy bugs\n",
    "\n",
    "**5. Maintainability:** modify one place, affect all calls to this function\n",
    "\n",
    "**6. Improve the clarity of code**\n",
    "\n",
    "-- Above points refer to prior lecture notes of this course and zetcode.com"
   ]
  },
  {
   "cell_type": "markdown",
   "metadata": {},
   "source": [
    "## The Zen of Python"
   ]
  },
  {
   "cell_type": "code",
   "execution_count": null,
   "metadata": {},
   "outputs": [],
   "source": [
    "import this"
   ]
  },
  {
   "cell_type": "markdown",
   "metadata": {},
   "source": [
    "#  \n",
    "\n",
    "More examples:\n",
    "\n",
    "Suppose we have a program where we want to allow the user to enter in the record **high**, **low**, and **average** temperatures in Celsius for a day. Use your **C_to_F()** function to calculate and output the corresponding temperatures in Fahrenheit."
   ]
  },
  {
   "cell_type": "code",
   "execution_count": null,
   "metadata": {},
   "outputs": [],
   "source": [
    "def C_to_F(temp_in_C):\n",
    "    temp_in_F = temp_in_C * (9/5) + 32\n",
    "    return temp_in_F\n",
    "\n",
    "# fill in your code in the following\n"
   ]
  },
  {
   "cell_type": "markdown",
   "metadata": {},
   "source": [
    "**Practice:**\n",
    "Write a function to cubes its input:"
   ]
  },
  {
   "cell_type": "code",
   "execution_count": null,
   "metadata": {},
   "outputs": [],
   "source": []
  },
  {
   "cell_type": "markdown",
   "metadata": {},
   "source": [
    "**Practice:**\n",
    "Write a function to computes the mean (average) of its two inputs:"
   ]
  },
  {
   "cell_type": "code",
   "execution_count": null,
   "metadata": {},
   "outputs": [],
   "source": []
  },
  {
   "cell_type": "markdown",
   "metadata": {},
   "source": [
    "## Python namespaces and scope"
   ]
  },
  {
   "cell_type": "markdown",
   "metadata": {},
   "source": [
    "**What is name?**\n",
    "\n",
    "Name (also called identifier) is simply a name given to objects. Everything in Python is an object. Name is a way to access the underlying object. (https://www.programiz.com/python-programming/namespace)\n",
    "\n",
    "For example: \n",
    "\n",
    "variable name: a, b, ...\n",
    "\n",
    "function name: abs, print, type, ...\n",
    "\n",
    "module name: math, random, ...\n",
    "\n",
    "#  "
   ]
  },
  {
   "cell_type": "markdown",
   "metadata": {},
   "source": [
    "**What Are Namespaces?** \n",
    "\n",
    "A namespace is basically a system to make sure that all the names in a program are unique and can be used without any conflict. \n",
    "\n",
    "Multiple namespaces can use the same name and map it to a different object. Here are a few examples of namespaces:\n",
    "\n",
    "**Local Namespace:** This namespace includes local names inside a function. This namespace is created when a function is called, and it only lasts until the function returns.\n",
    "\n",
    "**Global Namespace:** This namespace includes names from various imported modules and names defined in the main program. They last until the script ends.\n",
    "\n",
    "**Built-in Namespace:** This namespace includes built-in functions and built-in exception names.\n",
    "\n",
    "Above contents refer to https://code.tutsplus.com/tutorials/what-are-python-namespaces-and-why-are-they-needed--cms-28598\n"
   ]
  },
  {
   "cell_type": "markdown",
   "metadata": {},
   "source": [
    "Open link: https://www.geeksforgeeks.org/namespaces-and-scope-in-python/"
   ]
  },
  {
   "cell_type": "markdown",
   "metadata": {},
   "source": [
    "**What is scope?**\n",
    "\n",
    "Scope refers to the coding region from which particular Python object is accessible.(https://www.geeksforgeeks.org/namespaces-and-scope-in-python/)\n",
    "\n",
    "1. Local names -->  in the local namespace  --> accessible in local function\n",
    "2. Global names --> in the global namespace --> accessible in the main program\n",
    "3. Built-in names  --> in the built-in namespace --> Outermost scope, always accessible\n",
    "\n",
    "Python searches a name in namespaces in this order: **from inner to outer**\n",
    "\n",
    "Python can't search name from outer namespace to inner namespace!!!\n",
    "\n"
   ]
  },
  {
   "cell_type": "markdown",
   "metadata": {},
   "source": [
    "## Summarize the namespaces\n",
    "\n",
    "- **Inner namespace, smaller scope, larger priority**\n",
    "\n",
    "- **Outer namespace, larger scope, smaller priority**"
   ]
  },
  {
   "cell_type": "markdown",
   "metadata": {},
   "source": [
    "**Question:** How about a name in the nested functions?"
   ]
  },
  {
   "cell_type": "code",
   "execution_count": null,
   "metadata": {},
   "outputs": [],
   "source": [
    "def outer():\n",
    "    name = 'outer function'\n",
    "    print(name)\n",
    "    \n",
    "    def inner():\n",
    "        name = 'inner function'\n",
    "        print(name)\n",
    "    inner()\n",
    "    print(name)\n",
    "\n",
    "name = 'main function'\n",
    "print(name)\n",
    "outer()\n",
    "print(name)"
   ]
  },
  {
   "cell_type": "markdown",
   "metadata": {},
   "source": [
    "## One more practice of self-defined function"
   ]
  },
  {
   "cell_type": "markdown",
   "metadata": {},
   "source": [
    "**Practice:**\n",
    "\n",
    "Use a Python editor, e.g. spyder or atom, to write a program:\n",
    "\n",
    "1. define a function to calculate and return \"1/3 of the product of a, b, c\"\n",
    "\n",
    "2. define a function to calculate and return \"2 * quotient of n/d\", i.e. 2*(n/d)\n",
    "\n",
    "3. define a function to calculate and return \"square of sum of e and f\"\n",
    "\n",
    "4. use combination of above three functions to calculate the following expression. Do not use other math operators.\n",
    "\n",
    "5. run the **.py** file in the command line (First, enter the same folder where you store the **.py** file; then use command **python file_name.py** to run the program)"
   ]
  },
  {
   "cell_type": "code",
   "execution_count": 1,
   "metadata": {
    "scrolled": true
   },
   "outputs": [
    {
     "data": {
      "image/png": "[encoded data removed]",
      "text/plain": [
       "<IPython.core.display.Image object>"
      ]
     },
     "execution_count": 1,
     "metadata": {
      "image/png": {
       "width": 400
      }
     },
     "output_type": "execute_result"
    }
   ],
   "source": [
    "from IPython.display import Image\n",
    "Image(filename='MathExpression.png',width=400)"
   ]
  },
  {
   "cell_type": "code",
   "execution_count": null,
   "metadata": {},
   "outputs": [],
   "source": []
  }
 ],
 "metadata": {
  "kernelspec": {
   "display_name": "Python 3 (ipykernel)",
   "language": "python",
   "name": "python3"
  },
  "language_info": {
   "codemirror_mode": {
    "name": "ipython",
    "version": 3
   },
   "file_extension": ".py",
   "mimetype": "text/x-python",
   "name": "python",
   "nbconvert_exporter": "python",
   "pygments_lexer": "ipython3",
   "version": "3.9.13"
  }
 },
 "nbformat": 4,
 "nbformat_minor": 2
}
