{
 "cells": [
  {
   "cell_type": "markdown",
   "metadata": {},
   "source": [
    "# COSC 118: Introductory Scientific Programming"
   ]
  },
  {
   "cell_type": "markdown",
   "metadata": {},
   "source": [
    "Instructor: Dr. Shuangquan (Peter) Wang\n",
    "\n",
    "Email: spwang@salisbury.edu\n",
    "\n",
    "Department of Computer Science, Salisbury University\n"
   ]
  },
  {
   "cell_type": "markdown",
   "metadata": {},
   "source": [
    "# Module 1_Python Basics\n",
    "\n",
    "## 5. Loops\n",
    "\n"
   ]
  },
  {
   "cell_type": "markdown",
   "metadata": {},
   "source": [
    "**Contents of this note refer to 1) the teaching materials at Department of Computer Science, William & Mary; 2) the textbook \"Python crash course - a hands-on project-based introduction to programming\"; 3) Python toturial: https://docs.python.org/3/tutorial/**"
   ]
  },
  {
   "cell_type": "markdown",
   "metadata": {},
   "source": [
    "**<font color=red>All rights reserved. Dissemination or sale of any part of this note is NOT permitted.</font>**"
   ]
  },
  {
   "cell_type": "markdown",
   "metadata": {},
   "source": [
    "## Read textbook\n",
    "\n",
    "- Python Crash Course: Chapter 4: Working with Lists; Chapter 7: User Input and While Loops\n",
    "- Starting out with Python: Chapter 4: Repetition Structures"
   ]
  },
  {
   "cell_type": "markdown",
   "metadata": {},
   "source": [
    "**Example: Guess a number**\n",
    "\n",
    "Use **randint()** function in the **random** module to generate a random integer N, s.t. 1 <= N <= 10\n",
    "\n",
    "Ask user input an integer number, decide whether the user get the right number or not (guess only once)"
   ]
  },
  {
   "cell_type": "code",
   "execution_count": null,
   "metadata": {},
   "outputs": [],
   "source": []
  },
  {
   "cell_type": "markdown",
   "metadata": {},
   "source": [
    "##  \n",
    "\n",
    "How can we let the user guess twice?"
   ]
  },
  {
   "cell_type": "code",
   "execution_count": null,
   "metadata": {},
   "outputs": [],
   "source": []
  },
  {
   "cell_type": "markdown",
   "metadata": {},
   "source": [
    "If we allow the user to guess until he/she get the right number, we need to write 10 nested **if-else** statements.\n",
    "\n",
    "How about 1 <= N <= 1000? Any better choice?"
   ]
  },
  {
   "cell_type": "code",
   "execution_count": null,
   "metadata": {},
   "outputs": [],
   "source": []
  },
  {
   "cell_type": "markdown",
   "metadata": {},
   "source": [
    "# while loop\n"
   ]
  },
  {
   "cell_type": "code",
   "execution_count": null,
   "metadata": {},
   "outputs": [],
   "source": [
    "# Syntax:\n",
    "while conditional_test:\n",
    "    code block"
   ]
  },
  {
   "cell_type": "markdown",
   "metadata": {},
   "source": [
    "1. Calculate the **conditional_test** first,1) if it is **False**, do nothing and finish; 2) if it is **True**, execute the code block, then go back to the **while** line to repeat this process (each repeat is called an iteration).\n",
    "\n",
    "2. **while** loop executes until the **conditional_test** is **False**.\n",
    "\n",
    "3. Be careful of infinite loop (i.e. the **conditional_test** is always True). Sometimes we need infinite loop.\n",
    "\n",
    "4. When we use **while** loop: we know exactly when the iteration should stop (maybe you do not know how many iterations there are)."
   ]
  },
  {
   "cell_type": "markdown",
   "metadata": {},
   "source": [
    "How to rewrite above program (1 <= N <= 1000) using **while** loop?\n",
    "\n",
    "We can give some hints to let user know his/her guess is too low or too high."
   ]
  },
  {
   "cell_type": "code",
   "execution_count": null,
   "metadata": {},
   "outputs": [],
   "source": []
  },
  {
   "cell_type": "markdown",
   "metadata": {},
   "source": [
    "If 1 <= N <=1000\n",
    "\n",
    "How can we quit in the half way? For example, quit when we input 0."
   ]
  },
  {
   "cell_type": "code",
   "execution_count": null,
   "metadata": {},
   "outputs": [],
   "source": []
  },
  {
   "cell_type": "markdown",
   "metadata": {},
   "source": [
    "### Let's have a look at \"whilebad.py\" program"
   ]
  },
  {
   "cell_type": "code",
   "execution_count": null,
   "metadata": {},
   "outputs": [],
   "source": [
    "bound = int(input(\"Enter an upper bound: \"))\n",
    "\n",
    "counter = 0\n",
    "while counter <= bound:\n",
    "    print(counter)\n"
   ]
  },
  {
   "cell_type": "markdown",
   "metadata": {},
   "source": [
    "How to halt on infinite loops?\n",
    "\n",
    "- In jupyter notebook: interrupt the kernel\n",
    "- In command line: press \"Ctrl + C\""
   ]
  },
  {
   "cell_type": "markdown",
   "metadata": {},
   "source": [
    "**Practice:**\n",
    "\n",
    "Use **while** loop to print number 1 to 10, each number is printed in one line"
   ]
  },
  {
   "cell_type": "code",
   "execution_count": null,
   "metadata": {},
   "outputs": [],
   "source": []
  },
  {
   "cell_type": "markdown",
   "metadata": {},
   "source": [
    "**Practice:**\n",
    "\n",
    "Ask a user to input numbers, \n",
    "\n",
    "1) if a number is positive, print \"This is a positive number\"; \n",
    "\n",
    "2) if a number is negative, print \"This is a negative number\"; \n",
    "\n",
    "3) if it is 0, quit."
   ]
  },
  {
   "cell_type": "code",
   "execution_count": null,
   "metadata": {},
   "outputs": [],
   "source": []
  },
  {
   "cell_type": "markdown",
   "metadata": {},
   "source": [
    "## break VS continue\n",
    "\n",
    "1. Both of them are used in **while** or **for** loop to control the flow\n",
    "\n",
    "2. The **break** statement \"breaks out of the innermost enclosing **while** or **for** loop\"\n",
    "\n",
    "3. The **continue** statement \"contunues with the next iteration of the loop (do not execute the remaining part of this iteration; jump to **while** or **for** line to start the next iteration)\"\n",
    "\n",
    "4. The **break** and **continue** statements are often used together with **if** statement"
   ]
  },
  {
   "cell_type": "code",
   "execution_count": null,
   "metadata": {},
   "outputs": [],
   "source": [
    "# example of break\n",
    "i = 0\n",
    "while i < 10:\n",
    "    i = i + 1\n",
    "    if (i % 2) == 0:\n",
    "        break\n",
    "    print(i)"
   ]
  },
  {
   "cell_type": "code",
   "execution_count": null,
   "metadata": {},
   "outputs": [],
   "source": [
    "# example of continue\n",
    "i = 0\n",
    "while i < 10:\n",
    "    i = i + 1\n",
    "    if (i % 2) == 0:\n",
    "        continue\n",
    "    print(i)"
   ]
  },
  {
   "cell_type": "code",
   "execution_count": null,
   "metadata": {},
   "outputs": [],
   "source": []
  },
  {
   "cell_type": "markdown",
   "metadata": {},
   "source": [
    "**Practice:**\n",
    "\n",
    "- What is the value of i (or s) after executing the loop?\n",
    "\n",
    "- What is the output after executing the loop?"
   ]
  },
  {
   "cell_type": "code",
   "execution_count": null,
   "metadata": {},
   "outputs": [],
   "source": [
    "# Loop One\n",
    "i = 0\n",
    "while i < 10:\n",
    "    print(i)\n",
    "    i = i + 1"
   ]
  },
  {
   "cell_type": "code",
   "execution_count": null,
   "metadata": {},
   "outputs": [],
   "source": [
    "# Loop Two\n",
    "i = 10\n",
    "while i // 2 > 2:\n",
    "    print(i)\n",
    "    i = i - 1"
   ]
  },
  {
   "cell_type": "code",
   "execution_count": null,
   "metadata": {},
   "outputs": [],
   "source": [
    "# Loop Three\n",
    "i = 100\n",
    "while i > 0:\n",
    "    print(i)\n",
    "    i = i // 2"
   ]
  },
  {
   "cell_type": "code",
   "execution_count": null,
   "metadata": {},
   "outputs": [],
   "source": [
    "# Loop Four\n",
    "i = 100\n",
    "while i > 0:\n",
    "    print(i)\n",
    "    i = i / 2"
   ]
  },
  {
   "cell_type": "code",
   "execution_count": null,
   "metadata": {},
   "outputs": [],
   "source": [
    "# Loop Five\n",
    "i = 1\n",
    "while i % 10 > 0:\n",
    "    print(i)\n",
    "    i = i + 1"
   ]
  },
  {
   "cell_type": "code",
   "execution_count": null,
   "metadata": {},
   "outputs": [],
   "source": [
    "# Loop Six\n",
    "i = 0\n",
    "while i < 10:\n",
    "    print(i)\n",
    "    if i % 6 == 0:\n",
    "        break\n",
    "    i = i + 1"
   ]
  },
  {
   "cell_type": "code",
   "execution_count": null,
   "metadata": {},
   "outputs": [],
   "source": [
    "# Loop Seven\n",
    "s = \"hello\"\n",
    "while len(s) < 20:\n",
    "    print(s)\n",
    "    s = s * 2"
   ]
  },
  {
   "cell_type": "markdown",
   "metadata": {},
   "source": [
    "# for loop"
   ]
  },
  {
   "cell_type": "code",
   "execution_count": null,
   "metadata": {},
   "outputs": [],
   "source": [
    "# syntax of for loop\n",
    "\n",
    "for i in iterable_sequence:\n",
    "    code block"
   ]
  },
  {
   "cell_type": "markdown",
   "metadata": {},
   "source": [
    "1. **i** is index variable that defined by youself. The name of the index variable can be any valid variable name. It would be better to be descriptive.\n",
    "\n",
    "2. **iterable_sequence** is a sequence of members. It can be a list, a tuple, a dictionary, a set, or a string. \n",
    "\n",
    "3. The execution process: **for** loop iterates over the members of a sequence in order and one by one; for each iteration, it assigns the value of the corresponding member to the index variable, then executes the code block one time.\n",
    "\n",
    "4. When we use **for** loop: if you already know the sequence you are trying to iterate through (i.e. you know the number of iterations beforehand)."
   ]
  },
  {
   "cell_type": "code",
   "execution_count": null,
   "metadata": {},
   "outputs": [],
   "source": [
    "# example of for loop\n",
    "for i in [1,2,3,4,5]: # 1, 2, 3, 4, 5\n",
    "    print(i)"
   ]
  },
  {
   "cell_type": "markdown",
   "metadata": {},
   "source": [
    "## iterable sequence\n",
    "\n",
    "### Example 1: use range() built-in function to generate a sequence\n",
    "\n",
    "The following refers to https://docs.python.org/2/library/functions.html#range\n",
    "\n",
    "**range(stop)**\n",
    "\n",
    "or\n",
    "\n",
    "**range(start, stop[, step])**\n",
    "\n",
    "1. range() function creates a sequence containing arithmetic progressions. It is most often used in **for** loops. \n",
    "\n",
    "2. The arguments must be integers. If the step argument is omitted, it defaults to 1. If the start argument is omitted, it defaults to 0. \n",
    "\n",
    "3. It returns a sequence of integers **[start, start + step, start + 2 * step, ...]**. 1) If **step** is positive, the last element is the largest **start + i * step** less than **stop** (**stop - 1** is the upper bound); 2) If **step** is negative, the last element is the smallest **start + i * step** greater than **stop** (**stop + 1** is the lower bound). 3) **step** must not be zero. \n",
    "\n",
    "4. Pay Attention: in Python 2, range() function returns a list. However, in Python 3, it return a range data type (which is iterable). We can use list() function to transform range data type into list."
   ]
  },
  {
   "cell_type": "code",
   "execution_count": null,
   "metadata": {},
   "outputs": [],
   "source": [
    "a = range(10)\n",
    "print(a)\n",
    "print(list(a))"
   ]
  },
  {
   "cell_type": "code",
   "execution_count": null,
   "metadata": {},
   "outputs": [],
   "source": [
    "a = range(1,11)\n",
    "print(list(a))"
   ]
  },
  {
   "cell_type": "code",
   "execution_count": null,
   "metadata": {},
   "outputs": [],
   "source": [
    "a = range(0,30,5)\n",
    "print(list(a))"
   ]
  },
  {
   "cell_type": "code",
   "execution_count": null,
   "metadata": {},
   "outputs": [],
   "source": [
    "a = range(0,-10,-1)\n",
    "print(list(a))"
   ]
  },
  {
   "cell_type": "code",
   "execution_count": null,
   "metadata": {},
   "outputs": [],
   "source": [
    "a = range(0)\n",
    "print(list(a))"
   ]
  },
  {
   "cell_type": "code",
   "execution_count": null,
   "metadata": {},
   "outputs": [],
   "source": [
    "a = range(1,0)\n",
    "print(list(a))"
   ]
  },
  {
   "cell_type": "markdown",
   "metadata": {},
   "source": [
    "### Example 2: use characters in a string as a sequence"
   ]
  },
  {
   "cell_type": "code",
   "execution_count": null,
   "metadata": {},
   "outputs": [],
   "source": [
    "word = 'apple'\n",
    "for character in word: # a, p, p, l, e\n",
    "    print(character)"
   ]
  },
  {
   "cell_type": "markdown",
   "metadata": {},
   "source": [
    "**Practice:**"
   ]
  },
  {
   "cell_type": "code",
   "execution_count": null,
   "metadata": {},
   "outputs": [],
   "source": [
    "word = 'apple'\n",
    "for letter in word:\n",
    "    print('wow')"
   ]
  },
  {
   "cell_type": "markdown",
   "metadata": {},
   "source": [
    "### Example 3: use elements in a list ( or a tuple, a dictionary, a set) as a sequence"
   ]
  },
  {
   "cell_type": "code",
   "execution_count": null,
   "metadata": {},
   "outputs": [],
   "source": [
    "# element in a list\n",
    "a = [1,2,3,4,5,6,7]\n",
    "for number in a:\n",
    "    print(number,end=' ')"
   ]
  },
  {
   "cell_type": "markdown",
   "metadata": {},
   "source": [
    "##   \n",
    "\n",
    "**Examples of for loop:**"
   ]
  },
  {
   "cell_type": "code",
   "execution_count": null,
   "metadata": {},
   "outputs": [],
   "source": [
    "for i in range(0,10,2):\n",
    "    print(i)"
   ]
  },
  {
   "cell_type": "code",
   "execution_count": null,
   "metadata": {},
   "outputs": [],
   "source": [
    "for j in range(0,10,-1):\n",
    "    print(j)"
   ]
  },
  {
   "cell_type": "code",
   "execution_count": null,
   "metadata": {},
   "outputs": [],
   "source": [
    "for k in range(10,0,-1):\n",
    "    print(k)"
   ]
  },
  {
   "cell_type": "code",
   "execution_count": null,
   "metadata": {},
   "outputs": [],
   "source": [
    "for number in range(0,10):\n",
    "    print(number)"
   ]
  },
  {
   "cell_type": "code",
   "execution_count": null,
   "metadata": {},
   "outputs": [],
   "source": [
    "for item in range(10,0):\n",
    "    print(item)"
   ]
  },
  {
   "cell_type": "code",
   "execution_count": null,
   "metadata": {},
   "outputs": [],
   "source": [
    "for i in range(5):\n",
    "    print(i)"
   ]
  },
  {
   "cell_type": "markdown",
   "metadata": {},
   "source": [
    "### Nested while/for loop\n",
    "\n",
    "The outer loop executes one iteration, the inner loop exectures once fully.\n",
    "\n",
    "**Tips:** take the inner loop as a code block. For each iteration of the outer loop, this code block executes once."
   ]
  },
  {
   "cell_type": "code",
   "execution_count": null,
   "metadata": {},
   "outputs": [],
   "source": [
    "# example\n",
    "for i in range(3): # 0, 1, 2\n",
    "    for j in range(2): #0, 1\n",
    "        print('i=',i,';','j=',j)"
   ]
  },
  {
   "cell_type": "markdown",
   "metadata": {},
   "source": [
    "**while/for loop exercise:** "
   ]
  },
  {
   "cell_type": "code",
   "execution_count": null,
   "metadata": {},
   "outputs": [],
   "source": [
    "# Loop One\n",
    "for i in range(10):\n",
    "    print(i)\n",
    "print('done')"
   ]
  },
  {
   "cell_type": "code",
   "execution_count": null,
   "metadata": {},
   "outputs": [],
   "source": [
    "# Convert Loop One to a while loop\n"
   ]
  },
  {
   "cell_type": "code",
   "execution_count": null,
   "metadata": {},
   "outputs": [],
   "source": [
    "# Loop Two\n",
    "i = 0\n",
    "while i < 10:\n",
    "    if i % 2 == 0:\n",
    "        i *= 2\n",
    "    print(i)\n",
    "    i = i + 1\n",
    "print('done')"
   ]
  },
  {
   "cell_type": "code",
   "execution_count": null,
   "metadata": {},
   "outputs": [],
   "source": [
    "# Loop Three\n",
    "for j in range(0,10):\n",
    "    if j % 2 == 0:\n",
    "        j = j * 2\n",
    "    print(j)\n",
    "print('done')"
   ]
  },
  {
   "cell_type": "code",
   "execution_count": null,
   "metadata": {},
   "outputs": [],
   "source": [
    "# Loop Four\n",
    "for i in range(5):\n",
    "    print('i = ', i)\n",
    "    for j in range(3):\n",
    "        print('j = ', j)"
   ]
  },
  {
   "cell_type": "code",
   "execution_count": null,
   "metadata": {},
   "outputs": [],
   "source": [
    "# Loop Five\n",
    "for i in range(5):\n",
    "    print('i = ', i)\n",
    "    for j in range(i):\n",
    "        print('j = ', j)"
   ]
  },
  {
   "cell_type": "code",
   "execution_count": null,
   "metadata": {},
   "outputs": [],
   "source": []
  }
 ],
 "metadata": {
  "kernelspec": {
   "display_name": "Python 3 (ipykernel)",
   "language": "python",
   "name": "python3"
  },
  "language_info": {
   "codemirror_mode": {
    "name": "ipython",
    "version": 3
   },
   "file_extension": ".py",
   "mimetype": "text/x-python",
   "name": "python",
   "nbconvert_exporter": "python",
   "pygments_lexer": "ipython3",
   "version": "3.9.13"
  }
 },
 "nbformat": 4,
 "nbformat_minor": 2
}
