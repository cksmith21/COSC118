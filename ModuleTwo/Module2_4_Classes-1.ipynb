{
 "cells": [
  {
   "cell_type": "markdown",
   "metadata": {},
   "source": [
    "# COSC 118: Introductory Scientific Programming"
   ]
  },
  {
   "cell_type": "markdown",
   "metadata": {},
   "source": [
    "Instructor: Dr. Shuangquan (Peter) Wang\n",
    "\n",
    "Email: spwang@salisbury.edu\n",
    "\n",
    "Department of Computer Science, Salisbury University\n"
   ]
  },
  {
   "cell_type": "markdown",
   "metadata": {},
   "source": [
    "# Module 2_Advanced Topics\n",
    "\n",
    "## 4. Classes\n",
    "\n"
   ]
  },
  {
   "cell_type": "markdown",
   "metadata": {},
   "source": [
    "**Contents of this note refer to 1) the teaching materials at Department of Computer Science, William & Mary; 2) the textbook \"Python crash course - a hands-on project-based introduction to programming\"; 3) Python toturial: https://docs.python.org/3/tutorial/**"
   ]
  },
  {
   "cell_type": "markdown",
   "metadata": {},
   "source": [
    "**<font color=red>All rights reserved. Dissemination or sale of any part of this note is NOT permitted.</font>**"
   ]
  },
  {
   "cell_type": "markdown",
   "metadata": {},
   "source": [
    "## Read textbook\n",
    "\n",
    "- Textbook \"Python Crash Course\": Chapter 9 Classes\n",
    "- Textbook \"Starting out with Python\": Chapter 10 Classes and Object-Oriented Programming\n"
   ]
  },
  {
   "cell_type": "markdown",
   "metadata": {},
   "source": [
    "# Class\n",
    "\n",
    "*Class* is an important concept in OOP (object-oriented programming) language. In OOP, we write *classes* that represent real-world things, and create *objects* based on these *classes*. (https://www.hackerearth.com/practice/python/object-oriented-programming/classes-and-objects-i/tutorial/)\n",
    "\n",
    "**What is a class?**\n",
    "\n",
    "A class is a code template for **creating objects**. Objects have variables (attributes) and behaviors (methods) associated with them. \n",
    "\n",
    "- Example 1: We define a Dog *class* to represent dogs. Dogs have general attributes (e.g. name and age) and behaviors (e.g. sit, jump, and roll over)\n",
    "- Example 2: We define a Battery *class* to represent batteries. Batteries have general attributes (e.g. manufacturer and maximum capacity) and behaviors (e.g. recharge and discharge)\n"
   ]
  },
  {
   "cell_type": "markdown",
   "metadata": {},
   "source": [
    "**How to define a class?**"
   ]
  },
  {
   "cell_type": "code",
   "execution_count": null,
   "metadata": {},
   "outputs": [],
   "source": [
    "# syntax of class\n",
    "class Class_name(parent_class):\n",
    "    \n",
    "    # A must have method: the constructor method\n",
    "    def __init__(self,args):\n",
    "        code block to initialize a new object\n",
    "    \n",
    "    def method_name(self,args):\n",
    "        code block of method\n",
    "        \n",
    "    def method_name(self,args):\n",
    "        code block of method\n",
    "    ..."
   ]
  },
  {
   "cell_type": "markdown",
   "metadata": {},
   "source": [
    "1. Class must be defined before using it. (like function)\n",
    "\n",
    "2. Everytime we define a new class, we define a new data type. \n",
    "\n",
    "3. The first letter of the **Class_name** is often capitalized. This is a tradition in defining classes.\n",
    "\n",
    "4. *parent_class* indicates the partent class of the defined class. Parent class is the class being inherited from. Child class is the class that inherits from another class (https://www.w3schools.com/python/python_inheritance.asp ). For example, we define a Pet class and a Dog class inherited from Pet class. Here, the Pet class is the parent class. The Dog class is the child class. The parent class is more general than the child class. This is, **the child class objects are the subset of the parent class objects.** \n",
    "\n",
    "5. If *parent_class* is omitted, this class implicitly inherits from the **object** super class. All objects in Python inherit from **object** super class.\n",
    "\n",
    "6. Do not forget the colon and the indentation."
   ]
  },
  {
   "cell_type": "markdown",
   "metadata": {},
   "source": [
    "## Constructor method\n",
    "\n",
    "    def __init__(self,args):\n",
    "        code block to initialize (attributes of) a new object\n",
    "        \n",
    "1. Python runs automatically the corresponding constructor method whenever we create a new object (instance) using a class.\n",
    "\n",
    "2. The format of the methods in class is similar to that of functions\n",
    "\n",
    "3. The name of constructor method is special and fixed. It has two heading underscores and two trailing underscores, which indicate this method is for special usage.\n",
    "\n",
    "4. The **self** argument is required in the method definition, and it must come first before the other arguments. **Self is passed automatically, we don't need to pass it. We only provide value for other arguments**. **self here is a reference to the object created by this class.** (Why??? The methods in a class is same for all objects created from this class, if two objects use a method at the same time, how can Python distinguish them? Here we pass the object, i.e. self, to the methods)\n",
    "\n",
    "5. The **args** are the inputs when we create an object using a class. **These arguments are often assigned to the attributes of this created object**."
   ]
  },
  {
   "cell_type": "markdown",
   "metadata": {},
   "source": [
    "## Other methods in a class\n",
    "\n",
    "    def method_name(self,augs):\n",
    "        code block of method\n",
    "        \n",
    "1. Similar to functions\n",
    "\n",
    "2. Need **self** argument as in the constructor method\n",
    "\n",
    "3. Each method is a behavior of the objects in this class. For example, you can define three methods (sit, jump, and roll over) for objects in Dog class; or define two method (recharge and discharge) for objects in Battery class."
   ]
  },
  {
   "cell_type": "markdown",
   "metadata": {},
   "source": [
    "**Example:**"
   ]
  },
  {
   "cell_type": "code",
   "execution_count": null,
   "metadata": {},
   "outputs": [],
   "source": [
    "class Dog():\n",
    "    def __init__(self,name,age):\n",
    "        # define two variables (attributes)\n",
    "        self.name = name\n",
    "        self.age = age\n",
    "        \n",
    "    # define 1st behavior (method)\n",
    "    def sit(self):\n",
    "        print(self.name,'is now sitting')\n",
    "        \n",
    "    # define 2nd behavior (method)\n",
    "    def jump(self):\n",
    "        print(self.name,'is now jumping')\n",
    "    \n",
    "    # define 3rd behavior (method)\n",
    "    def birthday(self):\n",
    "        self.age += 1"
   ]
  },
  {
   "cell_type": "markdown",
   "metadata": {},
   "source": [
    "Attention: Any attribute prefixed with **self** is available to every method in the class. "
   ]
  },
  {
   "cell_type": "markdown",
   "metadata": {},
   "source": [
    "## Creating an object from a class (i.e. Making an instance from a class)\n",
    "\n",
    "**Syntax:**\n",
    "\n",
    "object_name = Class_name(args)\n",
    "\n",
    "**This process is called instantiation**"
   ]
  },
  {
   "cell_type": "code",
   "execution_count": null,
   "metadata": {},
   "outputs": [],
   "source": [
    "# for example\n",
    "my_dog = Dog('willie',6)\n",
    "# Here 'willie' and 6 are passed to the constructor method\n",
    "# they are used to initialize two variables (attributes), i.e. self.name and self.age"
   ]
  },
  {
   "cell_type": "markdown",
   "metadata": {},
   "source": [
    "## Accessing an object's attributes\n",
    "\n",
    "**Syntax:**\n",
    "\n",
    "object_name.attribute_name\n",
    "\n",
    "**Attention: no () after the attribute name**"
   ]
  },
  {
   "cell_type": "code",
   "execution_count": null,
   "metadata": {},
   "outputs": [],
   "source": [
    "print(my_dog.name)\n",
    "print(my_dog.age)"
   ]
  },
  {
   "cell_type": "markdown",
   "metadata": {},
   "source": [
    "## Call an instance's method\n",
    "\n",
    "**Syntax:**\n",
    "\n",
    "object_name.method_name(args)\n",
    "\n",
    "**Attention: have () after the method name**"
   ]
  },
  {
   "cell_type": "code",
   "execution_count": null,
   "metadata": {},
   "outputs": [],
   "source": [
    "# for example\n",
    "my_dog.sit()"
   ]
  },
  {
   "cell_type": "code",
   "execution_count": null,
   "metadata": {},
   "outputs": [],
   "source": [
    "my_dog.birthday()\n",
    "print(my_dog.age)"
   ]
  },
  {
   "cell_type": "markdown",
   "metadata": {},
   "source": [
    "## Creating multiple objects (instances)"
   ]
  },
  {
   "cell_type": "code",
   "execution_count": null,
   "metadata": {},
   "outputs": [],
   "source": [
    "my_dog = Dog('willie',4)\n",
    "your_dog = Dog('lucy',3)\n",
    "\n",
    "print(my_dog.name,'is',my_dog.age,'years old')\n",
    "print(your_dog.name,'is',your_dog.age,'years old')"
   ]
  },
  {
   "cell_type": "markdown",
   "metadata": {},
   "source": [
    "**How to make an attribute not visible outside the class?** \n",
    "\n",
    "Add two heading underscores before the attribute name (the attribue is now PRIVATE)."
   ]
  },
  {
   "cell_type": "code",
   "execution_count": null,
   "metadata": {},
   "outputs": [],
   "source": [
    "class Dog():\n",
    "    def __init__(self,name,age):\n",
    "        self.__name = name\n",
    "        self.__age = age\n",
    "        \n",
    "    def sit(self):\n",
    "        print(self.__name,'is now sitting')\n",
    "        \n",
    "    def jump(self):\n",
    "        print(self.__name,'is now jumping')\n",
    "    \n",
    "    def birthday(self):\n",
    "        self.__age += 1\n",
    "        \n",
    "# for example\n",
    "my_dog = Dog('willie',6)\n",
    "my_dog.jump()\n",
    "\n",
    "print(my_dog.__name)\n",
    "print(my_dog.__age)"
   ]
  },
  {
   "cell_type": "markdown",
   "metadata": {},
   "source": [
    "**Practice:**\n",
    "\n",
    "Define a class named Battery:\n",
    "\n",
    "This class has two attributes: *max_charge* and *charge_remaining*. The battery is full at the beginning.\n",
    "\n",
    "This class has four behaviors: \n",
    "\n",
    "1) *recharge*: increase the electric quantity by a \"number\" if not full\n",
    "\n",
    "2) *discharge*: decrease the electric quantity by a \"number\" if not empty\n",
    "\n",
    "3) *get_max_charge*: return the value of *max_charge*\n",
    "\n",
    "4) *get_charge_remaining*: return the value of *charge_remaining*"
   ]
  },
  {
   "cell_type": "code",
   "execution_count": null,
   "metadata": {},
   "outputs": [],
   "source": []
  },
  {
   "cell_type": "markdown",
   "metadata": {
    "collapsed": true
   },
   "source": [
    "## Example\n",
    "\n",
    "Define a class named **Equilateral_Triangle**:\n",
    "\n",
    "- This class has two attributes (*side_length* and *height*); the attribute names contain two leading underscores so that they are not visible outside the class\n",
    "\n",
    "- This class has three methods (i.e. *get_side*, *get_height*, and *get_area*) that **return** the corresponding information (i.e. *side_length*, *height*, and *area*)\n",
    "\n",
    "Create an instance of **Equilateral_Triangle** class named **equi_tri** (*side_length* = 5); print this instance's *data type*, *side_length*, *height*, and *area*"
   ]
  },
  {
   "cell_type": "code",
   "execution_count": null,
   "metadata": {},
   "outputs": [],
   "source": []
  },
  {
   "cell_type": "code",
   "execution_count": null,
   "metadata": {},
   "outputs": [],
   "source": []
  },
  {
   "cell_type": "markdown",
   "metadata": {},
   "source": [
    "### \\_\\_str\\_\\_ method\n",
    "\n",
    "This method returns a string representation of this class. That is, this method defines a default print output of this class. **When print an instance of this class, this method will be automatically called.**"
   ]
  },
  {
   "cell_type": "code",
   "execution_count": null,
   "metadata": {},
   "outputs": [],
   "source": []
  },
  {
   "cell_type": "markdown",
   "metadata": {},
   "source": [
    "If we do not define the **\\_\\_str_\\_()** method, print an instance will print its memory address"
   ]
  },
  {
   "cell_type": "code",
   "execution_count": null,
   "metadata": {},
   "outputs": [],
   "source": []
  },
  {
   "cell_type": "markdown",
   "metadata": {},
   "source": [
    "**Practice:** fill the code blocks in the following program according to the instructions"
   ]
  },
  {
   "cell_type": "code",
   "execution_count": null,
   "metadata": {},
   "outputs": [],
   "source": [
    "class Car():\n",
    "    \n",
    "    def __init__(self,make,model,year):\n",
    "        # Initialize the make, model, and year attributes to describe a car; \n",
    "        # Set the value of odometer_reading attribute to 0\n",
    "        \n",
    "     \n",
    "    def __str__(self):\n",
    "        # return the string representation \n",
    "        # E.g.: This audi A4 car was made by 2016.\n",
    "        \n",
    "        \n",
    "    def read_odometer(self):\n",
    "        # Print a statement to show the car's mileage\n",
    "        # E.g.: This car has 0 miles.\n",
    "        \n",
    "     \n",
    "    def increment_odometer(self,miles):\n",
    "        # Add the given amount miles to the odometer readings\n",
    "        \n",
    "\n",
    "# Main Program\n",
    "# create an instance of Car class, the instance name is my_car (make = 'audi', model = 'A4', year= 2016)\n",
    "\n",
    "# print the string representation of my_car \n",
    "\n",
    "# show the mileage of my_car \n",
    "\n",
    "# add 100 miles to the odometer readings of my_car \n",
    "\n",
    "# show the mileage of my_car \n"
   ]
  },
  {
   "cell_type": "markdown",
   "metadata": {},
   "source": [
    "### Two categories of methods\n",
    "\n",
    "1. **accessor methods**: read the attributes of an instance and returns information derived from them, but do NOT modify the attributes' values\n",
    "\n",
    "2. **mutator methods**: modify the values of the attributes of an instance\n",
    "\n",
    "**Question:** in above Car class, which methods are accessor methods? Which methods are mutator methods?"
   ]
  },
  {
   "cell_type": "markdown",
   "metadata": {},
   "source": [
    "**Practice:**\n",
    "\n",
    "Define a class named **Rectangle**:\n",
    "\n",
    "- This class has two attributes (*width* and *height*); the attribute names contain two leading underscores so that they are not visible outside the class\n",
    "\n",
    "- This class has three methods (*get_width*, *get_height*, and *get_area*); they **return** the corresponding information (*width*, *height*, and *area*)\n",
    "\n",
    "Create two instances of **Rectangle** class named **small_rec** (width = 4, height = 5) and **big_rec** (width = 10, height = 12)\n",
    "- Print the width of the **small_rec**; \n",
    "\n",
    "- Print the height of the **big_rec**; \n",
    "\n",
    "- Print the area ratio of the **big_rec** to the **small_rec**"
   ]
  },
  {
   "cell_type": "code",
   "execution_count": null,
   "metadata": {},
   "outputs": [],
   "source": []
  },
  {
   "cell_type": "code",
   "execution_count": null,
   "metadata": {},
   "outputs": [],
   "source": []
  }
 ],
 "metadata": {
  "kernelspec": {
   "display_name": "Python 3",
   "language": "python",
   "name": "python3"
  },
  "language_info": {
   "codemirror_mode": {
    "name": "ipython",
    "version": 3
   },
   "file_extension": ".py",
   "mimetype": "text/x-python",
   "name": "python",
   "nbconvert_exporter": "python",
   "pygments_lexer": "ipython3",
   "version": "3.8.5"
  }
 },
 "nbformat": 4,
 "nbformat_minor": 2
}
