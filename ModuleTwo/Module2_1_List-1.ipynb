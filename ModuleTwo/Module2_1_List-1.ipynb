{
 "cells": [
  {
   "cell_type": "markdown",
   "metadata": {},
   "source": [
    "# COSC 118: Introductory Scientific Programming"
   ]
  },
  {
   "cell_type": "markdown",
   "metadata": {},
   "source": [
    "Instructor: Dr. Shuangquan (Peter) Wang\n",
    "\n",
    "Email: spwang@salisbury.edu\n",
    "\n",
    "Department of Computer Science, Salisbury University\n"
   ]
  },
  {
   "cell_type": "markdown",
   "metadata": {},
   "source": [
    "# Module 2_Advanced Topics\n",
    "\n",
    "## 1. List\n",
    "\n"
   ]
  },
  {
   "cell_type": "markdown",
   "metadata": {},
   "source": [
    "**Contents of this note refer to 1) the teaching materials at Department of Computer Science, William & Mary; 2) the textbook \"Python crash course - a hands-on project-based introduction to programming\"; 3) Python toturial: https://docs.python.org/3/tutorial/**"
   ]
  },
  {
   "cell_type": "markdown",
   "metadata": {},
   "source": [
    "**<font color=red>All rights reserved. Dissemination or sale of any part of this note is NOT permitted.</font>**"
   ]
  },
  {
   "cell_type": "markdown",
   "metadata": {},
   "source": [
    "## Read textbook\n",
    "\n",
    "- Textbook \"Python Crash Course\": Chapter 3 Introducing Lists & Chapter 4 Working with Lists \n",
    "\n",
    "- Textbook \"Starting out with Python\": Chapter 7 Lists and Tuples\n",
    "\n"
   ]
  },
  {
   "cell_type": "markdown",
   "metadata": {},
   "source": [
    "## Part 1: Concept and basic operations\n",
    "\n",
    "A list is a collection of items in a particular order. The elements are separated by commas and enclosed in square brackets.\n",
    "\n",
    "A list can contain any kind of data (numbers, strings, class objects, ...)"
   ]
  },
  {
   "cell_type": "code",
   "execution_count": 1,
   "metadata": {},
   "outputs": [
    {
     "name": "stdout",
     "output_type": "stream",
     "text": [
      "['yea', 'nay', 'yea', 'nay', 'yea']\n"
     ]
    }
   ],
   "source": [
    "# example\n",
    "votes = ['yea','nay','yea','nay','yea']\n",
    "print(votes)"
   ]
  },
  {
   "cell_type": "code",
   "execution_count": 2,
   "metadata": {},
   "outputs": [
    {
     "name": "stdout",
     "output_type": "stream",
     "text": [
      "[620, 600, 710, 730, 650]\n"
     ]
    }
   ],
   "source": [
    "# example\n",
    "scores = [620, 600, 710, 730, 650]\n",
    "print(scores)"
   ]
  },
  {
   "cell_type": "code",
   "execution_count": 3,
   "metadata": {},
   "outputs": [
    {
     "name": "stdout",
     "output_type": "stream",
     "text": [
      "[10, 'name', 3.14]\n"
     ]
    }
   ],
   "source": [
    "# For example \n",
    "mixed = [10, 'name', 3.14]\n",
    "print(mixed)"
   ]
  },
  {
   "cell_type": "markdown",
   "metadata": {},
   "source": [
    "### Define an empty list\n",
    "\n",
    "Syntax:\n",
    "\n",
    "1. list_name = []\n",
    "\n",
    "2. list_name = list()"
   ]
  },
  {
   "cell_type": "code",
   "execution_count": null,
   "metadata": {},
   "outputs": [],
   "source": [
    "# example\n",
    "my_list = []\n",
    "empty_list = list()\n",
    "print(my_list)\n",
    "print(empty_list)"
   ]
  },
  {
   "cell_type": "markdown",
   "metadata": {},
   "source": [
    "### How to append an element to the end of a list\n",
    "\n",
    "Syntax:\n",
    "\n",
    "list_name.append(element)"
   ]
  },
  {
   "cell_type": "code",
   "execution_count": null,
   "metadata": {},
   "outputs": [],
   "source": [
    "# example\n",
    "my_list = []\n",
    "my_list.append(100)\n",
    "print(my_list)"
   ]
  },
  {
   "cell_type": "code",
   "execution_count": null,
   "metadata": {},
   "outputs": [],
   "source": [
    "# We can NOT append more than one element each time\n",
    "my_list.append(200,300)\n",
    "print(my_list)"
   ]
  },
  {
   "cell_type": "markdown",
   "metadata": {},
   "source": [
    "### How to access elements in a list\n",
    "\n",
    "Syntax:\n",
    "\n",
    "list_name[index]\n",
    "\n",
    "**Attention:** the index range is from 0 to n-1"
   ]
  },
  {
   "cell_type": "code",
   "execution_count": null,
   "metadata": {},
   "outputs": [],
   "source": [
    "# example\n",
    "scores = [620, 600, 710, 730, 650]\n",
    "print(scores[0])"
   ]
  },
  {
   "cell_type": "code",
   "execution_count": null,
   "metadata": {},
   "outputs": [],
   "source": [
    "print(scores[5])"
   ]
  },
  {
   "cell_type": "markdown",
   "metadata": {},
   "source": [
    "### Use for loop to go through all elements in a list"
   ]
  },
  {
   "cell_type": "code",
   "execution_count": null,
   "metadata": {},
   "outputs": [],
   "source": [
    "# example\n",
    "scores = [620, 600, 710, 730, 650]\n",
    "\n",
    "for i in scores:\n",
    "    print(i)"
   ]
  },
  {
   "cell_type": "markdown",
   "metadata": {},
   "source": [
    "### Use len() function to count the number of elements in a list"
   ]
  },
  {
   "cell_type": "code",
   "execution_count": null,
   "metadata": {},
   "outputs": [],
   "source": [
    "# example\n",
    "scores = [620, 600, 710, 730, 650]\n",
    "print(len(scores))"
   ]
  },
  {
   "cell_type": "markdown",
   "metadata": {},
   "source": [
    "### Use \"+\" operator to concatenate two lists"
   ]
  },
  {
   "cell_type": "code",
   "execution_count": null,
   "metadata": {},
   "outputs": [],
   "source": [
    "# example\n",
    "list1 = [1,2,3] + [4,5,6]\n",
    "print(list1)"
   ]
  },
  {
   "cell_type": "code",
   "execution_count": null,
   "metadata": {},
   "outputs": [],
   "source": [
    "# example\n",
    "list1 = [1,2,3]\n",
    "list2 = [4,5,6]\n",
    "list3 = list1 + list2\n",
    "print(list3)"
   ]
  },
  {
   "cell_type": "markdown",
   "metadata": {},
   "source": [
    "#  "
   ]
  },
  {
   "cell_type": "markdown",
   "metadata": {},
   "source": [
    "## Part 2: More list operations\n",
    "\n",
    "### Insert an element into a list\n",
    "\n",
    "Syntax:\n",
    "\n",
    "list_name.insert(index,element_value)\n",
    "\n",
    "- Insert *element_value* at the location of the *index*\n",
    "- All the elements after this new element are shifted one position to the right"
   ]
  },
  {
   "cell_type": "code",
   "execution_count": 4,
   "metadata": {},
   "outputs": [
    {
     "name": "stdout",
     "output_type": "stream",
     "text": [
      "['honda', 'BMW', 'yamaha', 'audi']\n"
     ]
    }
   ],
   "source": [
    "# example\n",
    "motocycles = ['honda','yamaha','audi']\n",
    "motocycles.insert(1,'BMW')\n",
    "print(motocycles)"
   ]
  },
  {
   "cell_type": "markdown",
   "metadata": {},
   "source": [
    "### Remove an element from a list\n",
    "\n",
    "Syntax:\n",
    "\n",
    "del list_name[index]\n",
    "\n",
    "- Delete the element at the location of the *index*\n",
    "\n",
    "- All the elements after this deleted element are shifted one position to the left"
   ]
  },
  {
   "cell_type": "code",
   "execution_count": null,
   "metadata": {},
   "outputs": [],
   "source": [
    "# example\n",
    "motocycles = ['honda','yamaha','audi']\n",
    "del motocycles[1]\n",
    "print(motocycles)"
   ]
  },
  {
   "cell_type": "markdown",
   "metadata": {},
   "source": [
    "### Sort a list\n",
    "\n",
    "Method 1: Sort a list permanently with the **sort()** method (change the order of the list permanently)\n",
    "\n",
    "Syntax:\n",
    "\n",
    "list_name.sort()\n",
    "\n",
    "- list_name.sort() modifies the list in-place"
   ]
  },
  {
   "cell_type": "code",
   "execution_count": null,
   "metadata": {},
   "outputs": [],
   "source": [
    "# example:\n",
    "list_1 = [1,5,2,3,10]\n",
    "list_1.sort()\n",
    "print(list_1)"
   ]
  },
  {
   "cell_type": "markdown",
   "metadata": {},
   "source": [
    "Method 2: Sort a list temporarily with the **sorted()** method (does not affect the actural order of the list)\n",
    "\n",
    "Syntax:\n",
    "\n",
    "sorted(list_name)\n",
    "\n",
    "- sorted() is a Python built-in method. \n",
    "- It builds a new sorted list and returns the sorted list, but does not change the original list\n"
   ]
  },
  {
   "cell_type": "code",
   "execution_count": 5,
   "metadata": {},
   "outputs": [
    {
     "name": "stdout",
     "output_type": "stream",
     "text": [
      "[1, 2, 3, 5, 10]\n",
      "[1, 5, 2, 3, 10]\n"
     ]
    }
   ],
   "source": [
    "# example:\n",
    "list_1 = [1,5,2,3,10]\n",
    "print(sorted(list_1))\n",
    "print(list_1)"
   ]
  },
  {
   "cell_type": "code",
   "execution_count": null,
   "metadata": {},
   "outputs": [],
   "source": [
    "# For the second method, how can we change the original list?\n",
    "list_1 = [1,5,2,3,10]\n",
    "list_1 = sorted(list_1)\n",
    "print(list_1)"
   ]
  },
  {
   "cell_type": "markdown",
   "metadata": {},
   "source": [
    "### Slicing a list\n",
    "\n",
    "Syntax:\n",
    "\n",
    "list_name[index_1:index_2]\n",
    "\n",
    "- Return the list elements from the index_1 to (index_2 - 1)\n",
    "\n",
    "list_name[:index_2]\n",
    "\n",
    "- Return the list elements from beginning to (index_2 - 1)\n",
    "\n",
    "list_name[index_1:]\n",
    "\n",
    "- Return the list elements from the index_1 to the end"
   ]
  },
  {
   "cell_type": "code",
   "execution_count": 6,
   "metadata": {},
   "outputs": [
    {
     "name": "stdout",
     "output_type": "stream",
     "text": [
      "[2]\n"
     ]
    }
   ],
   "source": [
    "# Example 1\n",
    "data = [1,2,3,4]\n",
    "print(data[1:2])"
   ]
  },
  {
   "cell_type": "code",
   "execution_count": 7,
   "metadata": {},
   "outputs": [
    {
     "name": "stdout",
     "output_type": "stream",
     "text": [
      "[2, 3, 4]\n"
     ]
    }
   ],
   "source": [
    "# Example 2\n",
    "print(data[1:])"
   ]
  },
  {
   "cell_type": "code",
   "execution_count": 8,
   "metadata": {},
   "outputs": [
    {
     "name": "stdout",
     "output_type": "stream",
     "text": [
      "[1, 2]\n"
     ]
    }
   ],
   "source": [
    "# Example 3\n",
    "print(data[:2])"
   ]
  },
  {
   "cell_type": "code",
   "execution_count": 9,
   "metadata": {},
   "outputs": [
    {
     "name": "stdout",
     "output_type": "stream",
     "text": [
      "[1, 2, 3, 4]\n"
     ]
    }
   ],
   "source": [
    "# Example 4\n",
    "print(data[:])"
   ]
  },
  {
   "cell_type": "markdown",
   "metadata": {},
   "source": [
    "### Use a negative integer to index the elements from the end of a list\n",
    "\n",
    "- The last element corresponds to index of -1\n",
    "\n",
    "- The last but one corresponds to index of -2\n",
    "\n",
    "- ......\n"
   ]
  },
  {
   "cell_type": "code",
   "execution_count": 11,
   "metadata": {},
   "outputs": [
    {
     "name": "stdout",
     "output_type": "stream",
     "text": [
      "4\n"
     ]
    }
   ],
   "source": [
    "# example\n",
    "data = [1,2,3,4]\n",
    "print(data[-1])"
   ]
  },
  {
   "cell_type": "code",
   "execution_count": 10,
   "metadata": {},
   "outputs": [
    {
     "name": "stdout",
     "output_type": "stream",
     "text": [
      "[3, 4]\n"
     ]
    }
   ],
   "source": [
    "print(data[-2:])"
   ]
  },
  {
   "cell_type": "markdown",
   "metadata": {},
   "source": [
    "#  "
   ]
  },
  {
   "cell_type": "markdown",
   "metadata": {},
   "source": [
    "## Part 3: List practice"
   ]
  },
  {
   "cell_type": "markdown",
   "metadata": {},
   "source": [
    "**1. Use list to define mean() function**"
   ]
  },
  {
   "cell_type": "code",
   "execution_count": null,
   "metadata": {},
   "outputs": [],
   "source": [
    "#The method can only be used for 3 numbers\n",
    "def mean(a,b,c):\n",
    "    return (a + b + c)/3"
   ]
  },
  {
   "cell_type": "markdown",
   "metadata": {},
   "source": [
    "**Practice:**\n",
    "\n",
    "Define a **mean** function, which takes a list as input and return the mean value of this list."
   ]
  },
  {
   "cell_type": "code",
   "execution_count": null,
   "metadata": {},
   "outputs": [],
   "source": [
    "def mean(vals):\n",
    "\n",
    "    return sum(vals)/len(vals)"
   ]
  },
  {
   "cell_type": "markdown",
   "metadata": {},
   "source": [
    "**2. Use a list to define median() function**\n",
    "\n",
    "Definition of **median**: the value separating the higher half from the lower half of a data sequence (--Wikipedia)\n",
    "\n",
    "Case 1: there are odd elements in the list:\n",
    "\n",
    "- 1,6,7,3,8,3,9  -->  1,3,3,6,7,8,9  --> median = 6\n",
    "\n",
    "Case 2: there are even elements in the list:\n",
    "\n",
    "- 1,3,5,2,4,7,6,8  --> 1,2,3,4,5,6,7,8  --> median = (4+5)/2= 4.5"
   ]
  },
  {
   "cell_type": "markdown",
   "metadata": {},
   "source": [
    "**Practice:**\n",
    "\n",
    "Define a **median** function, which takes a list as input and return the median value of this list."
   ]
  },
  {
   "cell_type": "code",
   "execution_count": null,
   "metadata": {},
   "outputs": [],
   "source": [
    "def median(vals):\n",
    "\n",
    "    index = -1\n",
    "\n",
    "    if len(vals) % 2 == 1:\n",
    "        index = len(vals)//2\n",
    "        vals.sort() \n",
    "        return vals[index] \n",
    "    else: \n",
    "        index = len(vals)//2\n",
    "        vals.sort() \n",
    "        return (vals[index] + vals[index+1])/2"
   ]
  },
  {
   "cell_type": "markdown",
   "metadata": {},
   "source": [
    "## Part 4: List comprehension\n",
    "\n",
    "List comprehension allows us to build up a list in a single statement."
   ]
  },
  {
   "cell_type": "markdown",
   "metadata": {},
   "source": [
    "**Example:**\n",
    "\n",
    "Create a list of the first 15 non-negative even numbers"
   ]
  },
  {
   "cell_type": "code",
   "execution_count": null,
   "metadata": {},
   "outputs": [],
   "source": [
    "# if we use a for loop\n",
    "evens = []\n",
    "for i in range(15):\n",
    "    evens.append(2*i)\n",
    "print(evens)"
   ]
  },
  {
   "cell_type": "code",
   "execution_count": null,
   "metadata": {},
   "outputs": [],
   "source": [
    "# if we use list comprehension\n",
    "evens = [2*i for i in range(15)]\n",
    "print(evens)"
   ]
  },
  {
   "cell_type": "markdown",
   "metadata": {},
   "source": [
    "Difference between the above two methods:\n",
    "\n",
    "- The index variable **i** in the for loop exists after the execution of this for loop\n",
    "\n",
    "- The variable **i** in the list comprehension does NOT exist after the list comprehension statement"
   ]
  },
  {
   "cell_type": "code",
   "execution_count": null,
   "metadata": {},
   "outputs": [],
   "source": [
    "evens = []\n",
    "for i in range(15):\n",
    "    evens.append(2*i)\n",
    "print(evens)\n",
    "print(i)"
   ]
  },
  {
   "cell_type": "code",
   "execution_count": null,
   "metadata": {},
   "outputs": [],
   "source": [
    "evens = [2*j for j in range(15)]\n",
    "print(evens)\n",
    "print(j)"
   ]
  },
  {
   "cell_type": "markdown",
   "metadata": {},
   "source": [
    "List comprehension can also incorporate **if** statement\n",
    "\n",
    "**Example:**\n",
    "\n",
    "From the frist 15 non-negative even numbers, use a list to contains all the numbers that are not divisible by 6"
   ]
  },
  {
   "cell_type": "code",
   "execution_count": null,
   "metadata": {},
   "outputs": [],
   "source": [
    "# use for loop\n",
    "evens = []\n",
    "for i in range(15):\n",
    "    if (2*i)%6 != 0:\n",
    "        evens.append(2*i)\n",
    "print(evens)"
   ]
  },
  {
   "cell_type": "code",
   "execution_count": null,
   "metadata": {},
   "outputs": [],
   "source": [
    "# use list comprehension\n",
    "evens = [2*i for i in range(15) if (2*i)%6 != 0]\n",
    "print(evens)"
   ]
  },
  {
   "cell_type": "markdown",
   "metadata": {},
   "source": [
    "#  "
   ]
  },
  {
   "cell_type": "markdown",
   "metadata": {},
   "source": [
    "## Part 5: List comprehension practice\n",
    "\n",
    "**1. Use list comprehension to define a list of first 100 non-negative integers**"
   ]
  },
  {
   "cell_type": "code",
   "execution_count": null,
   "metadata": {
    "scrolled": true
   },
   "outputs": [],
   "source": []
  },
  {
   "cell_type": "markdown",
   "metadata": {},
   "source": [
    "**2. Use list comprehension to define a list containing the square of the first 10 non-negative integers**"
   ]
  },
  {
   "cell_type": "code",
   "execution_count": null,
   "metadata": {},
   "outputs": [],
   "source": []
  },
  {
   "cell_type": "markdown",
   "metadata": {},
   "source": [
    "**3. Use list comprehension to generate a list that contains first 20 non-negative multiples of 3**"
   ]
  },
  {
   "cell_type": "code",
   "execution_count": null,
   "metadata": {},
   "outputs": [],
   "source": []
  },
  {
   "cell_type": "markdown",
   "metadata": {},
   "source": [
    "**4. For above practice, how about if we only want even numbers**"
   ]
  },
  {
   "cell_type": "code",
   "execution_count": null,
   "metadata": {},
   "outputs": [],
   "source": []
  }
 ],
 "metadata": {
  "kernelspec": {
   "display_name": "Python 3 (ipykernel)",
   "language": "python",
   "name": "python3"
  },
  "language_info": {
   "codemirror_mode": {
    "name": "ipython",
    "version": 3
   },
   "file_extension": ".py",
   "mimetype": "text/x-python",
   "name": "python",
   "nbconvert_exporter": "python",
   "pygments_lexer": "ipython3",
   "version": "3.10.4"
  }
 },
 "nbformat": 4,
 "nbformat_minor": 2
}
