{
 "cells": [
  {
   "cell_type": "markdown",
   "metadata": {},
   "source": [
    "# COSC 118: Introductory Scientific Programming"
   ]
  },
  {
   "cell_type": "markdown",
   "metadata": {},
   "source": [
    "Instructor: Dr. Shuangquan (Peter) Wang\n",
    "\n",
    "Email: spwang@salisbury.edu\n",
    "\n",
    "Department of Computer Science, Salisbury University\n"
   ]
  },
  {
   "cell_type": "markdown",
   "metadata": {},
   "source": [
    "# Module 2_Advanced Topics\n",
    "\n",
    "## 2. Tuples & Dictionaries\n",
    "\n"
   ]
  },
  {
   "cell_type": "markdown",
   "metadata": {},
   "source": [
    "**Contents of this note refer to 1) the teaching materials at Department of Computer Science, William & Mary; 2) the textbook \"Python crash course - a hands-on project-based introduction to programming\"; 3) Python toturial: https://docs.python.org/3/tutorial/**"
   ]
  },
  {
   "cell_type": "markdown",
   "metadata": {},
   "source": [
    "**<font color=red>All rights reserved. Dissemination or sale of any part of this note is NOT permitted.</font>**"
   ]
  },
  {
   "cell_type": "markdown",
   "metadata": {},
   "source": [
    "## Read textbook\n",
    "\n",
    "- Textbook \"Python Crash Course\": Chapter 6 Dictionaries\n",
    "\n",
    "- Textbook \"Starting out with Python\": Chapter 7 Lists and Tuples, Chapter 9 Dictionaries and Sets\n"
   ]
  },
  {
   "cell_type": "markdown",
   "metadata": {},
   "source": [
    "## Tuple"
   ]
  },
  {
   "cell_type": "markdown",
   "metadata": {},
   "source": [
    "Python offers another list-like object called a tuple. A tuple works just like a list, with two substantive differences:\n",
    "\n",
    "1. The elements in a list are enclosed in square brackets. For example, a = [1,2,3]; the elements in a tuple are enclosed in parentheses. For example, b = (1,2,3)\n",
    "\n",
    "2. The elements in a list can be changed. That is, a list is **mutable**; the elements in a tuple can NOT be changed. That is, a tuple is **immutable** (A tuple is a fixed list).\n",
    "\n"
   ]
  },
  {
   "cell_type": "markdown",
   "metadata": {},
   "source": [
    "### Define a tuple\n",
    "\n",
    "Similar as defining a list, but use parentheses instead of square brackets"
   ]
  },
  {
   "cell_type": "code",
   "execution_count": null,
   "metadata": {},
   "outputs": [],
   "source": [
    "# define a tuple named dimensions\n",
    "dimensions = (200, 50)\n",
    "print(dimensions)\n",
    "print(type(dimensions))"
   ]
  },
  {
   "cell_type": "markdown",
   "metadata": {},
   "source": [
    "### Access individual element in a tuple\n",
    "\n",
    "The syntax is similar as that in list:\n",
    "\n",
    "- tuple_name[index] \n",
    "- The index range is from 0 to length-1"
   ]
  },
  {
   "cell_type": "code",
   "execution_count": null,
   "metadata": {},
   "outputs": [],
   "source": [
    "dimensions = (200, 50)\n",
    "print(dimensions[0])"
   ]
  },
  {
   "cell_type": "code",
   "execution_count": null,
   "metadata": {},
   "outputs": [],
   "source": [
    "print(dimensions[1])"
   ]
  },
  {
   "cell_type": "markdown",
   "metadata": {},
   "source": [
    "What will happen if we try to change the value of one element in this tuple?"
   ]
  },
  {
   "cell_type": "code",
   "execution_count": null,
   "metadata": {},
   "outputs": [],
   "source": [
    "dimensions = (200, 50)\n",
    "dimensions[0] = 250"
   ]
  },
  {
   "cell_type": "markdown",
   "metadata": {},
   "source": [
    "### Loop through all the elements in a tuple"
   ]
  },
  {
   "cell_type": "code",
   "execution_count": null,
   "metadata": {},
   "outputs": [],
   "source": [
    "# Use a for loop to loop through all the elements\n",
    "dimensions = (200, 50)\n",
    "for dimension in dimensions:\n",
    "    print(dimension)"
   ]
  },
  {
   "cell_type": "markdown",
   "metadata": {},
   "source": [
    "### Writing over a tuple\n",
    "\n",
    "- We can not change an individual element in a tuple\n",
    "- But we can assign a new tuple to a variable that holds a tuple"
   ]
  },
  {
   "cell_type": "code",
   "execution_count": null,
   "metadata": {},
   "outputs": [],
   "source": [
    "# Write over a tuple\n",
    "dimensions = (200, 50)\n",
    "print(dimensions)\n",
    "dimensions = (400, 100)\n",
    "print(dimensions)"
   ]
  },
  {
   "cell_type": "code",
   "execution_count": null,
   "metadata": {},
   "outputs": [],
   "source": [
    "# Write over a tuple\n",
    "dimensions = (200, 50)\n",
    "print(dimensions)\n",
    "dimensions = (200, 50, 400, 100)\n",
    "print(dimensions)"
   ]
  },
  {
   "cell_type": "markdown",
   "metadata": {},
   "source": [
    "#   "
   ]
  },
  {
   "cell_type": "markdown",
   "metadata": {},
   "source": [
    "**Practice:**"
   ]
  },
  {
   "cell_type": "code",
   "execution_count": null,
   "metadata": {},
   "outputs": [],
   "source": [
    "# Is the following statement valid?\n",
    "point_1 = (1,2)\n",
    "point_1[0] = 3"
   ]
  },
  {
   "cell_type": "code",
   "execution_count": null,
   "metadata": {},
   "outputs": [],
   "source": [
    "funlist = [(1,2,3),(4,5,6)]\n",
    "# Q1: what is the data type of funlist? List or tuple?\n",
    "print(type(funlist))\n",
    "# Q2: what is the data type of the first element of funlist? List or tuple?\n",
    "print(type(funlist[0]))"
   ]
  },
  {
   "cell_type": "code",
   "execution_count": null,
   "metadata": {},
   "outputs": [],
   "source": [
    "# Q3: Is the following statement valid?\n",
    "funlist = [(1,2,3),(4,5,6)]\n",
    "funlist[0] = (7,8,9)\n",
    "print(funlist)"
   ]
  },
  {
   "cell_type": "code",
   "execution_count": null,
   "metadata": {},
   "outputs": [],
   "source": [
    "# Q4: What is the output of the following statement?\n",
    "print(funlist[0][2])"
   ]
  },
  {
   "cell_type": "code",
   "execution_count": null,
   "metadata": {},
   "outputs": [],
   "source": [
    "# Q5: Is the following statement valid\n",
    "funlist[0][2] = 6"
   ]
  },
  {
   "cell_type": "markdown",
   "metadata": {},
   "source": [
    "# Dictionary"
   ]
  },
  {
   "cell_type": "markdown",
   "metadata": {},
   "source": [
    "Dictionary is a general form of a list. It is a collection of *key-value* pairs.\n",
    "\n",
    "- The indices of a list are implicit. For example, a = [1, 2, 3, 4]. The correponsding indices are 0, 1, 2, 3\n",
    "\n",
    "- In a dictionary, each index is replaced with a more general key. Unlike a list, a dictionary in Python must define the correspondence between a key and its value explicitly with a **key: value** pair: 1) Each key is connected to a value; 2) You can access the value associated with that key; 3) A key's value can be a number, a string, a list, or even another dictionary\n",
    "\n"
   ]
  },
  {
   "cell_type": "markdown",
   "metadata": {},
   "source": [
    "## Define a dictionary\n",
    "\n",
    "To differentiate it from a list, a dictionary is enclosed in curly brackets **{ }**.\n",
    "\n",
    "Inside the curly brackets **{ }**, there are a series *key-value* pairs.\n",
    "\n",
    "Syntax:\n",
    "\n",
    "**dictionary_name = {key1:value1, key2:value2, ...}**"
   ]
  },
  {
   "cell_type": "code",
   "execution_count": null,
   "metadata": {},
   "outputs": [],
   "source": [
    "# example\n",
    "empty_dictionary = {}\n",
    "print(empty_dictionary)"
   ]
  },
  {
   "cell_type": "code",
   "execution_count": null,
   "metadata": {},
   "outputs": [],
   "source": [
    "# example\n",
    "my_dict = {0:'A',1:'B',2:'C'}\n",
    "print(my_dict)"
   ]
  },
  {
   "cell_type": "markdown",
   "metadata": {},
   "source": [
    "## Access value in a dictionary\n",
    "\n",
    "Syntax:\n",
    "\n",
    "**dictionary_name[key]**\n",
    "\n",
    "Pay Attention: the key is in [ ]"
   ]
  },
  {
   "cell_type": "code",
   "execution_count": null,
   "metadata": {},
   "outputs": [],
   "source": [
    "# example\n",
    "my_dict = {0:'A',1:'B',2:'C'}\n",
    "print(my_dict[1])"
   ]
  },
  {
   "cell_type": "code",
   "execution_count": null,
   "metadata": {},
   "outputs": [],
   "source": [
    "print(my_dict[5])"
   ]
  },
  {
   "cell_type": "code",
   "execution_count": null,
   "metadata": {},
   "outputs": [],
   "source": [
    "# example\n",
    "my_dict = {'Cindy':'pink','Rebecca':'blue','Grace':'green'}"
   ]
  },
  {
   "cell_type": "code",
   "execution_count": null,
   "metadata": {},
   "outputs": [],
   "source": [
    "print(my_dict['Cindy'])"
   ]
  },
  {
   "cell_type": "code",
   "execution_count": null,
   "metadata": {},
   "outputs": [],
   "source": [
    "print(my_dict['Dalia'])"
   ]
  },
  {
   "cell_type": "markdown",
   "metadata": {},
   "source": [
    "## Add new key-value pair\n",
    "\n",
    "Syntax:\n",
    "\n",
    "**dictionary_name[new_key] = new_value**"
   ]
  },
  {
   "cell_type": "code",
   "execution_count": null,
   "metadata": {},
   "outputs": [],
   "source": [
    "# example\n",
    "weird = {'car':(2009,2017),'plane':(2015, 2017), 'boat':(1853, 2017)}\n",
    "print(weird['plane'])"
   ]
  },
  {
   "cell_type": "code",
   "execution_count": null,
   "metadata": {},
   "outputs": [],
   "source": [
    "weird['train'] = (1500,1700)\n",
    "print(weird)"
   ]
  },
  {
   "cell_type": "code",
   "execution_count": null,
   "metadata": {},
   "outputs": [],
   "source": [
    "print(weird['space shuttle'])"
   ]
  },
  {
   "cell_type": "markdown",
   "metadata": {},
   "source": [
    "## Modify value in a dictionary\n",
    "\n",
    "Syntax:\n",
    "\n",
    "**dictionary_name[key] = new_value**"
   ]
  },
  {
   "cell_type": "code",
   "execution_count": null,
   "metadata": {},
   "outputs": [],
   "source": [
    "# example\n",
    "weird = {'car': (2009,2017), 'plane': (2015, 2017), 'boat': (1853, 2017), 'train': (100, 200)}\n",
    "print(weird)\n",
    "weird['car'] = (1920, 1957)\n",
    "print(weird)"
   ]
  },
  {
   "cell_type": "code",
   "execution_count": null,
   "metadata": {},
   "outputs": [],
   "source": [
    "# example\n",
    "display = {}  # define an empty dictionary\n",
    "print(display)\n",
    "display['color'] = 'green'\n",
    "print(display)\n",
    "display['color'] = 'yellow'\n",
    "print(display)"
   ]
  },
  {
   "cell_type": "markdown",
   "metadata": {},
   "source": [
    "## Remove key-value pair\n",
    "\n",
    "Syntax:\n",
    "\n",
    "**del dictionary_name[key]**"
   ]
  },
  {
   "cell_type": "code",
   "execution_count": null,
   "metadata": {},
   "outputs": [],
   "source": [
    "# example\n",
    "display = {'color':'green','pixels':(800,600)}\n",
    "print(display)\n",
    "del display['color']\n",
    "print(display)"
   ]
  },
  {
   "cell_type": "markdown",
   "metadata": {},
   "source": [
    "#   "
   ]
  }
 ],
 "metadata": {
  "kernelspec": {
   "display_name": "Python 3",
   "language": "python",
   "name": "python3"
  },
  "language_info": {
   "codemirror_mode": {
    "name": "ipython",
    "version": 3
   },
   "file_extension": ".py",
   "mimetype": "text/x-python",
   "name": "python",
   "nbconvert_exporter": "python",
   "pygments_lexer": "ipython3",
   "version": "3.8.5"
  }
 },
 "nbformat": 4,
 "nbformat_minor": 2
}
