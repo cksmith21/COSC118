{
 "cells": [
  {
   "cell_type": "markdown",
   "metadata": {},
   "source": [
    "# COSC 118: Introductory Scientific Programming"
   ]
  },
  {
   "cell_type": "markdown",
   "metadata": {},
   "source": [
    "Instructor: Dr. Shuangquan (Peter) Wang\n",
    "\n",
    "Email: spwang@salisbury.edu\n",
    "\n",
    "Department of Computer Science, Salisbury University\n"
   ]
  },
  {
   "cell_type": "markdown",
   "metadata": {},
   "source": [
    "## Practice 1: \n",
    "\n",
    "Write a piece of code to read in integer, say n, and then use a loop to read in the score of n students, calculate and display the average score of the group."
   ]
  },
  {
   "cell_type": "code",
   "execution_count": 1,
   "metadata": {},
   "outputs": [
    {
     "data": {
      "text/plain": [
       "2.3333333333333335"
      ]
     },
     "execution_count": 1,
     "metadata": {},
     "output_type": "execute_result"
    }
   ],
   "source": [
    "def avg_score(n):\n",
    "\n",
    "    sum = 0\n",
    "    for i in range(n): \n",
    "        sum += int(input(\"Enter your value: \"))\n",
    "\n",
    "    return sum/n\n",
    "\n",
    "avg_score(3)"
   ]
  },
  {
   "cell_type": "markdown",
   "metadata": {},
   "source": [
    "## Practice 2: \n",
    "\n",
    "Write a Python program to:\n",
    "\n",
    "1) Define a function named numSum to accept a positive integer n. This function calculates and returns the sum of all the numbers between 1 and n (include 1 and n). However, you need to exclude numbers 3 and 7 if necessary.\n",
    "\n",
    "2) In the main program, ask user input a positive integer, call the function numSum to get the result and print it out"
   ]
  },
  {
   "cell_type": "code",
   "execution_count": 6,
   "metadata": {},
   "outputs": [
    {
     "name": "stdout",
     "output_type": "stream",
     "text": [
      "7\n"
     ]
    }
   ],
   "source": [
    "def print_vals(n):\n",
    "\n",
    "    return sum([i for i in range(1, n+1) if i != 3 and i!=7])\n",
    "\n",
    "num = int(input(\"Enter a positive integer: \"))\n",
    "print(print_vals(num))"
   ]
  },
  {
   "cell_type": "markdown",
   "metadata": {},
   "source": [
    "## Practice 3: \n",
    "\n",
    "Input an integer n from the keyboard, if n is an even number, output the value of (2*n+5); if n is an odd number, output the value of (n^2 - n). \n",
    "\n",
    "Note: n^2 means n squared.\n"
   ]
  },
  {
   "cell_type": "code",
   "execution_count": 7,
   "metadata": {},
   "outputs": [
    {
     "name": "stdout",
     "output_type": "stream",
     "text": [
      "17\n"
     ]
    }
   ],
   "source": [
    "n = int(input(\"Enter a positive integer: \"))\n",
    "\n",
    "if n % 2 == 0: \n",
    "    print((2*n)+5)\n",
    "else: \n",
    "    print((n**2)-n)\n"
   ]
  },
  {
   "cell_type": "markdown",
   "metadata": {},
   "source": [
    "## Practice 4: \n",
    "\n",
    "Input a user's year and month of birth, if the year is a multiple of the month (i.e. year = n*month for some integer n), output \"The year is a multiple of the month. This is a coincidence!\"; otherwise, output \"The year is not a multiple of the month.\""
   ]
  },
  {
   "cell_type": "code",
   "execution_count": null,
   "metadata": {},
   "outputs": [],
   "source": [
    "year = int(input(\"Enter the year: \"))\n",
    "month = int(input(\"Enter the month: \"))\n",
    "\n",
    "if year % month == 0: \n",
    "    print(\"The year is a multiple of the month. This is a coincidence.\")\n",
    "else: \n",
    "    print(\"The year is not a multiple of the month.\")"
   ]
  },
  {
   "cell_type": "markdown",
   "metadata": {},
   "source": [
    "## Practice 5: \n",
    "\n",
    "Input a positive integer n, use a loop to calculate and output the factorial n! = 1 * 2 * ... * n."
   ]
  },
  {
   "cell_type": "code",
   "execution_count": 8,
   "metadata": {},
   "outputs": [
    {
     "name": "stdout",
     "output_type": "stream",
     "text": [
      "24\n"
     ]
    }
   ],
   "source": [
    "def factorial(n):\n",
    "\n",
    "    cur = 1\n",
    "    for i in range(1, n+1):\n",
    "        cur*=i\n",
    "    \n",
    "    print(cur)\n",
    "\n",
    "factorial(4)"
   ]
  },
  {
   "cell_type": "markdown",
   "metadata": {},
   "source": [
    "## Practice 6: \n",
    "\n",
    "Input a positive integer n, use a loop to calculate and output the sum of all the even (or odd) numbers between 1 and n."
   ]
  },
  {
   "cell_type": "code",
   "execution_count": null,
   "metadata": {},
   "outputs": [],
   "source": [
    "n = int(input(\"Enter a positive number: \"))\n",
    "eSum = 0\n",
    "oSum = 0 \n",
    "\n",
    "for i in range(n+1):\n",
    "    if i % 2 == 0:\n",
    "        eSum += i\n",
    "    else: \n",
    "        oSum += i \n",
    "\n",
    "print(f\"Even sum: {eSum}\")\n",
    "print(f\"Odd sum: {oSum}\")"
   ]
  },
  {
   "cell_type": "markdown",
   "metadata": {},
   "source": [
    "## Practice 7: \n",
    "\n",
    "Use a loop to print out the sequence 1, 2, 4, 8, 16, ..., 64.  "
   ]
  },
  {
   "cell_type": "code",
   "execution_count": 10,
   "metadata": {},
   "outputs": [
    {
     "name": "stdout",
     "output_type": "stream",
     "text": [
      "1 2 4 8 16 32 64\n"
     ]
    }
   ],
   "source": [
    "l = [2**i for i in range(0,7)]\n",
    "print(*l)"
   ]
  },
  {
   "cell_type": "markdown",
   "metadata": {},
   "source": [
    "## Practice 8: \n",
    "\n",
    "Use a loop to print out Fibonacci numbers 0, 1, 1, 2, 3, 5, 8, 13, 21, 34, 55, 89, 144."
   ]
  },
  {
   "cell_type": "code",
   "execution_count": 12,
   "metadata": {},
   "outputs": [
    {
     "name": "stdout",
     "output_type": "stream",
     "text": [
      "0 1 1 2 3 5 8 13 21 34 55 89 144 233 377 610 987 1597 2584 4181 6765 10946 17711 28657 46368 75025 121393 196418 317811 514229 832040 1346269 2178309 3524578 5702887 9227465 14930352 24157817 39088169 63245986 102334155 165580141 267914296 433494437 701408733 1134903170 1836311903 2971215073 4807526976 7778742049 12586269025 20365011074 32951280099 53316291173 86267571272 139583862445 225851433717 365435296162 591286729879 956722026041 1548008755920 2504730781961 4052739537881 6557470319842 10610209857723 17167680177565 27777890035288 44945570212853 72723460248141 117669030460994 190392490709135 308061521170129 498454011879264 806515533049393 1304969544928657 2111485077978050 3416454622906707 5527939700884757 8944394323791464 14472334024676221 23416728348467685 37889062373143906 61305790721611591 99194853094755497 160500643816367088 259695496911122585 420196140727489673 679891637638612258 1100087778366101931 1779979416004714189 2880067194370816120 4660046610375530309 7540113804746346429 12200160415121876738 19740274219868223167 31940434634990099905 51680708854858323072 83621143489848422977 135301852344706746049 218922995834555169026\n"
     ]
    }
   ],
   "source": [
    "fib = [0, 1]\n",
    "\n",
    "for i in range(2,100):\n",
    "    fib.append(fib[i-1] + fib[i-2])\n",
    "\n",
    "print(*fib)"
   ]
  },
  {
   "cell_type": "markdown",
   "metadata": {},
   "source": [
    "## Practice 9:\n",
    "\n",
    "Define a function in python that accepts 3 values and returns the maximum of three numbers."
   ]
  },
  {
   "cell_type": "code",
   "execution_count": null,
   "metadata": {},
   "outputs": [],
   "source": [
    "def max_val(a, b, c):\n",
    "    return max(a, b, c)"
   ]
  }
 ],
 "metadata": {
  "kernelspec": {
   "display_name": "Python 3",
   "language": "python",
   "name": "python3"
  },
  "language_info": {
   "codemirror_mode": {
    "name": "ipython",
    "version": 3
   },
   "file_extension": ".py",
   "mimetype": "text/x-python",
   "name": "python",
   "nbconvert_exporter": "python",
   "pygments_lexer": "ipython3",
   "version": "3.10.4"
  }
 },
 "nbformat": 4,
 "nbformat_minor": 2
}
