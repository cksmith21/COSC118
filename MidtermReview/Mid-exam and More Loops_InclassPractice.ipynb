{
 "cells": [
  {
   "cell_type": "markdown",
   "metadata": {},
   "source": [
    "# COSC 118: Introductory Scientific Programming"
   ]
  },
  {
   "cell_type": "markdown",
   "metadata": {},
   "source": [
    "Instructor: Dr. Shuangquan (Peter) Wang\n",
    "\n",
    "Email: spwang@salisbury.edu\n",
    "\n",
    "Department of Computer Science, Salisbury University\n"
   ]
  },
  {
   "cell_type": "markdown",
   "metadata": {},
   "source": [
    "# Mid-exam questions"
   ]
  },
  {
   "cell_type": "markdown",
   "metadata": {},
   "source": [
    "**Question 1:**\n",
    "\n",
    "Write a Python program to finish the following tasks:\n",
    "\n",
    "1) Ask user input the radius of a sphere (i.e. r)\n",
    "\n",
    "2) Calculate and output the volume of this sphere (V = 4/3 * pi * r^3)\n",
    "\n",
    "3) Ask user input the density of the sphere, calculate and output the weight of this sphere (Weight = Volume * Density)\n",
    "\n",
    "Note: You are required to use the pi constant in math module.\n"
   ]
  },
  {
   "cell_type": "code",
   "execution_count": null,
   "metadata": {},
   "outputs": [],
   "source": []
  },
  {
   "cell_type": "markdown",
   "metadata": {},
   "source": [
    "**Question 2:**\n",
    "\n",
    "Assume the tax is calculated as follows,\n",
    "\n",
    "1) if the salary is less than 20000, the tax rate is 5%; \n",
    "\n",
    "2) if the salary is between 20000 and 80000, the tax rate is related to how many dependents:\n",
    "\n",
    "-- if there is no dependent, the tax rate is 10%; \n",
    "\n",
    "-- if there is one or two dependents, the tax rate is 9%; \n",
    "\n",
    "-- if there are more than two dependents, the tax rate is 8%; \n",
    "\n",
    "3) if the salary is more than 80000, the tax rate is 12%.\n",
    "\n",
    "Write a program to ask user input salary and number of dependents, calculate and output the amount of tax."
   ]
  },
  {
   "cell_type": "code",
   "execution_count": null,
   "metadata": {},
   "outputs": [],
   "source": []
  },
  {
   "cell_type": "markdown",
   "metadata": {},
   "source": [
    "**Question 3:**\n",
    "\n",
    "Ask user input a positive integer, say n,\n",
    "\n",
    "- if the input <= 0, output \"The input is not correct\";\n",
    "\n",
    "- otherwise, use a while loop to calculate and output the sum of all integers between 1  and n (include 1 and n), i.e SUM = 1 + 2 + ... + n."
   ]
  },
  {
   "cell_type": "code",
   "execution_count": null,
   "metadata": {},
   "outputs": [],
   "source": []
  },
  {
   "cell_type": "markdown",
   "metadata": {},
   "source": [
    "**Question 4:**\n",
    "\n",
    "Write a Python program to:\n",
    "\n",
    "1) Define a function named avgSum to accept a positive integer n. This function calculates and returns the average of all the integer numbers between 1 and n (include 1 and n). However, you need to exclude the multiples of 3 if necessary (i.e. 3, 6, 9, ...).\n",
    "\n",
    "2) In the main program, ask user input a positive integer, call the function avgSum to get the result and print it out."
   ]
  },
  {
   "cell_type": "code",
   "execution_count": null,
   "metadata": {},
   "outputs": [],
   "source": []
  },
  {
   "cell_type": "code",
   "execution_count": null,
   "metadata": {},
   "outputs": [],
   "source": []
  },
  {
   "cell_type": "markdown",
   "metadata": {},
   "source": [
    "# More Loops In-class Practices"
   ]
  },
  {
   "cell_type": "markdown",
   "metadata": {},
   "source": [
    "## Practice 1:\n",
    "\n",
    "Write a program with a loop that asks the user to enter a series of numbers. The user should enter a zero to signal the end of the series. This program should display the sum of all negative numbers and the sum of all positive numbers."
   ]
  },
  {
   "cell_type": "code",
   "execution_count": null,
   "metadata": {},
   "outputs": [],
   "source": []
  },
  {
   "cell_type": "markdown",
   "metadata": {},
   "source": [
    "## Practice 2: \n",
    "\n",
    "Write a Python program to:\n",
    "\n",
    "1) Define a function named oddSum to accept a positive integer n. This function calculates and returns the sum of all the odd integer numbers between 1 and n (include 1 and n). However, you need to exclude number 9 and numbers greater than 100 if necessary.\n",
    "\n",
    "2) In the main program, ask user input a positive integer, call the function oddSum to get the result and print it out."
   ]
  },
  {
   "cell_type": "code",
   "execution_count": null,
   "metadata": {},
   "outputs": [],
   "source": []
  },
  {
   "cell_type": "markdown",
   "metadata": {},
   "source": [
    "## Practice 3: \n",
    "\n",
    "Input a positive integer n, use a while loop to calculate and output the sum = 1! + 2! + ... + n!. (Note: n! = 1 * 2 * ... * n)"
   ]
  },
  {
   "cell_type": "code",
   "execution_count": null,
   "metadata": {},
   "outputs": [],
   "source": []
  },
  {
   "cell_type": "markdown",
   "metadata": {},
   "source": [
    "## Practice 4: \n",
    "\n",
    "The Fibonacci Sequence: 0, 1, 1, 2, 3, 5, 8, 13, 21, 34, 55 …\n",
    "\n",
    "Written as a rule, the expression is:\n",
    "\n",
    "Xn = Xn-1 + Xn-2\n",
    "\n",
    "Use a loop to print out the first 50 Fibonacci numbers."
   ]
  },
  {
   "cell_type": "code",
   "execution_count": null,
   "metadata": {},
   "outputs": [],
   "source": []
  },
  {
   "cell_type": "markdown",
   "metadata": {},
   "source": [
    "## Practice 5: \n",
    "\n",
    "Write a piece of code to read in integer, say n, and then a loop to read in the salary of n employees, calculate and display the maximum salary and average salary of the group.\n"
   ]
  },
  {
   "cell_type": "code",
   "execution_count": null,
   "metadata": {},
   "outputs": [],
   "source": []
  }
 ],
 "metadata": {
  "kernelspec": {
   "display_name": "Python 3",
   "language": "python",
   "name": "python3"
  },
  "language_info": {
   "codemirror_mode": {
    "name": "ipython",
    "version": 3
   },
   "file_extension": ".py",
   "mimetype": "text/x-python",
   "name": "python",
   "nbconvert_exporter": "python",
   "pygments_lexer": "ipython3",
   "version": "3.8.5"
  }
 },
 "nbformat": 4,
 "nbformat_minor": 2
}
